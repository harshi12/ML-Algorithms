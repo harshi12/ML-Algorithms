{
 "cells": [
  {
   "cell_type": "markdown",
   "metadata": {},
   "source": [
    "# Question 2"
   ]
  },
  {
   "cell_type": "markdown",
   "metadata": {},
   "source": [
    "## Importing libraries"
   ]
  },
  {
   "cell_type": "code",
   "execution_count": null,
   "metadata": {},
   "outputs": [],
   "source": [
    "import numpy as np\n",
    "import pandas as pd\n",
    "import math as mt\n",
    "import matplotlib.pyplot as plt\n",
    "\n",
    "eps = np.finfo(float).eps"
   ]
  },
  {
   "cell_type": "markdown",
   "metadata": {},
   "source": [
    "## Utility Functions"
   ]
  },
  {
   "cell_type": "markdown",
   "metadata": {},
   "source": [
    "Graph Plotter"
   ]
  },
  {
   "cell_type": "code",
   "execution_count": null,
   "metadata": {},
   "outputs": [],
   "source": [
    "def plotter(label_x, label_y, title, x_axis, y_axis, mark='', colr = 'blue'):\n",
    "    plt.figure(num=None, figsize=(6, 4), dpi=175, facecolor='w', edgecolor='k')\n",
    "    # plotting the points  \n",
    "    plt.plot(x_axis, y_axis, marker = mark, color = colr, label = 'Error rate') \n",
    "    # naming the x axis \n",
    "    plt.xlabel(label_x) \n",
    "    # naming the y axis \n",
    "    plt.ylabel(label_y) \n",
    "\n",
    "    # giving a title to my graph \n",
    "    plt.title(title) \n",
    "    plt.grid(True)\n",
    "    # function to show the plot \n",
    "    plt.show()"
   ]
  },
  {
   "cell_type": "markdown",
   "metadata": {},
   "source": [
    "Mean and Standared Deviation of all numerical attributes"
   ]
  },
  {
   "cell_type": "code",
   "execution_count": null,
   "metadata": {},
   "outputs": [],
   "source": [
    "def mean_stddev(df):\n",
    "    meanst_no = {}\n",
    "    meanst_yes = {}\n",
    "    for attr in numerical[:-1]:\n",
    "        mean = df[attr][df[Class] == ClassList[0]].mean()\n",
    "        stddev = df[attr][df[Class] == ClassList[0]].std()\n",
    "        meanst_no[attr] = (mean, stddev)\n",
    "        mean = df[attr][df[Class] == ClassList[1]].mean()\n",
    "        stddev = df[attr][df[Class] == ClassList[1]].std()\n",
    "        meanst_yes[attr] = (mean, stddev)\n",
    "    return [meanst_no, meanst_yes] "
   ]
  },
  {
   "cell_type": "markdown",
   "metadata": {},
   "source": [
    "Gaussian Distribution Function for numerical attributes"
   ]
  },
  {
   "cell_type": "code",
   "execution_count": null,
   "metadata": {},
   "outputs": [],
   "source": [
    "def gaussian_distribution(x, mean, stdev):\n",
    "    E = mt.exp(-(mt.pow(x-mean,2)/(2*mt.pow(stdev,2))))\n",
    "    px = (1 / (mt.sqrt(2*mt.pi) * stdev)) * E\n",
    "    return px"
   ]
  },
  {
   "cell_type": "markdown",
   "metadata": {},
   "source": [
    "Distribution plotter"
   ]
  },
  {
   "cell_type": "code",
   "execution_count": null,
   "metadata": {},
   "outputs": [],
   "source": [
    "def plot_value_vs_freq(df, attribute):\n",
    "    frequency = df[attribute].value_counts()\n",
    "    frequency.sort_index(inplace=True)\n",
    "    index_list = frequency.index.tolist()\n",
    "    frequency_list = frequency.values.tolist()\n",
    "    prob_list = []\n",
    "    for i in index_list:\n",
    "        prob_list.append(gaussian_distribution(i, df[attribute].mean() , df[attribute].std()))\n",
    "    plotter(\"Frequency\" ,attribute, 'Frequency Distribution', index_list, frequency_list, '.', 'blue')\n",
    "    plotter(\"Gaussian Probability\" ,attribute, 'Probability Distribution', index_list, prob_list, '+', 'green')\n",
    "    print(\"==============================================================================================================\")\n",
    "    \n",
    "  \n",
    "    \n"
   ]
  },
  {
   "cell_type": "markdown",
   "metadata": {},
   "source": [
    "Distribution Finder Function"
   ]
  },
  {
   "cell_type": "code",
   "execution_count": null,
   "metadata": {},
   "outputs": [],
   "source": [
    "def distribution_finder(df):\n",
    "    for attr in numerical[:-1]:\n",
    "        plot_value_vs_freq(df, attr)\n"
   ]
  },
  {
   "cell_type": "markdown",
   "metadata": {},
   "source": [
    "Prior"
   ]
  },
  {
   "cell_type": "code",
   "execution_count": null,
   "metadata": {},
   "outputs": [],
   "source": [
    "def prior(df, row, attr):\n",
    "    den = len(df)\n",
    "    num = len(df[df[attr] == row[attr]])\n",
    "    return num/(den + eps)"
   ]
  },
  {
   "cell_type": "markdown",
   "metadata": {},
   "source": [
    "Evidence"
   ]
  },
  {
   "cell_type": "code",
   "execution_count": null,
   "metadata": {},
   "outputs": [],
   "source": [
    "def evidence(df, row):\n",
    "    den = len(df)\n",
    "    num_no = len(df[df[Class] == ClassList[0]])\n",
    "    num_yes = len(df[df[Class] == ClassList[1]])\n",
    "    evidence_no = num_no/(den + eps)\n",
    "    evidence_yes = num_yes/(den + eps)\n",
    "    return evidence_no, evidence_yes"
   ]
  },
  {
   "cell_type": "markdown",
   "metadata": {},
   "source": [
    "Likelihood"
   ]
  },
  {
   "cell_type": "code",
   "execution_count": null,
   "metadata": {},
   "outputs": [],
   "source": [
    "def likelihood(df, row, attr):\n",
    "    den = len(df[df[attr] == row[attr]])\n",
    "    num_no = len(df[df[attr] == row[attr]][df[Class] == ClassList[0]])\n",
    "    num_yes = len(df[df[attr] == row[attr]][df[Class] == ClassList[1]])\n",
    "    likelihood_no = num_no/(den + eps)\n",
    "    likelihood_yes = num_yes/(den + eps)    \n",
    "    return likelihood_no, likelihood_yes"
   ]
  },
  {
   "cell_type": "markdown",
   "metadata": {},
   "source": [
    "Probability Function for calagorical attributes"
   ]
  },
  {
   "cell_type": "code",
   "execution_count": null,
   "metadata": {},
   "outputs": [],
   "source": [
    "def cat_probability(df, row, attribute):\n",
    "    li_no, li_yes = likelihood(df, row, attribute)\n",
    "    pr = prior(df, row, attribute)\n",
    "    e_no, e_yes = evidence(df, row)\n",
    "    prob_no = (li_no*pr)/(e_no + eps)\n",
    "    prob_yes = (li_yes*pr)/(e_yes + eps)\n",
    "    return np.log2(prob_no), np.log2(prob_yes)"
   ]
  },
  {
   "cell_type": "markdown",
   "metadata": {},
   "source": [
    "Probability Function for Numerical attributes"
   ]
  },
  {
   "cell_type": "code",
   "execution_count": null,
   "metadata": {},
   "outputs": [],
   "source": [
    "def num_probability(meanst_no_yes, row, attr):\n",
    "    prob_no = gaussian_distribution(row[attr], meanst_no_yes[0][attr][0], meanst_no_yes[0][attr][1])\n",
    "    prob_yes = gaussian_distribution(row[attr], meanst_no_yes[1][attr][0], meanst_no_yes[1][attr][1])\n",
    "    return np.log2(prob_no), np.log2(prob_yes)"
   ]
  },
  {
   "cell_type": "markdown",
   "metadata": {},
   "source": [
    "Function for calculating accuracy "
   ]
  },
  {
   "cell_type": "code",
   "execution_count": null,
   "metadata": {},
   "outputs": [],
   "source": [
    "def accuracy(true_positive , true_negative , false_positive, false_negative):\n",
    "    return ((true_positive + true_negative)*100)/(true_positive + true_negative + false_positive + false_negative + eps)"
   ]
  },
  {
   "cell_type": "markdown",
   "metadata": {},
   "source": [
    "Validation Function for validating the data set that returns accuracy"
   ]
  },
  {
   "cell_type": "code",
   "execution_count": null,
   "metadata": {},
   "outputs": [],
   "source": [
    "def validation(trainingSet, validationSet):\n",
    "    true_positive = 0\n",
    "    true_negative = 0\n",
    "    false_positive = 0\n",
    "    false_negative = 0\n",
    "    meanst_no_yes = mean_stddev(trainingSet)\n",
    "    for index, row in validationSet.iterrows():\n",
    "        prob_no = 0\n",
    "        prob_yes = 0\n",
    "        for attr in catagorical[:-1]:\n",
    "            lprob_no, lprob_yes = cat_probability(trainingSet, row, attr)\n",
    "            prob_no += lprob_no\n",
    "            prob_yes += lprob_yes\n",
    "        for attr in numerical[:-1]:\n",
    "            lprob_no, lprob_yes = num_probability(meanst_no_yes, row, attr)\n",
    "            prob_no += lprob_no\n",
    "            prob_yes += lprob_yes\n",
    "        e_no, e_yes = evidence(trainingSet, row)\n",
    "        prob_no += np.log2(e_no)\n",
    "        prob_yes += np.log2(e_yes)\n",
    "        print(row)\n",
    "        print(\"====================================================================\")\n",
    "        if prob_yes > prob_no:\n",
    "            if row[Class] == ClassList[1]:\n",
    "                true_positive += 1\n",
    "            else:\n",
    "                false_positive += 1\n",
    "        else:\n",
    "            if row[Class] == ClassList[0]:\n",
    "                true_negative += 1\n",
    "            else:\n",
    "                false_negative += 1\n",
    "    return true_positive , true_negative , false_positive, false_negative\n"
   ]
  },
  {
   "cell_type": "markdown",
   "metadata": {},
   "source": [
    "### Reading the Data Set"
   ]
  },
  {
   "cell_type": "code",
   "execution_count": null,
   "metadata": {},
   "outputs": [],
   "source": [
    "randomDataSet = dataSet = pd.read_csv(\"./../input_data/LoanDataset/data.csv\")\n",
    "randomDataSet = dataSet.sample(frac=1).reset_index(drop=True)\n",
    "Class = \"output\"\n",
    "columns = [\"id\",\"age\", \"year_of_experience\", \"annual_income\",\"zipcode\",\"family_size\",\"average_spending\",\"education_level\",\"mortgage_value\",Class,\"have_security_acc\",\"have_cd_acc\",\"use_ib\",\"use_credit_card\"]\n",
    "randomDataSet.columns = columns\n",
    "randomDataSet = randomDataSet[[\"age\", \"year_of_experience\", \"annual_income\",\"zipcode\",\"family_size\",\"average_spending\",\"education_level\",\"mortgage_value\",Class,\"have_security_acc\",\"have_cd_acc\",\"use_ib\",\"use_credit_card\"]]\n",
    "trainingSet, validationSet = np.split(randomDataSet, [int(0.8*len(randomDataSet))])\n",
    "catagorical = ['have_security_acc','have_cd_acc','use_ib','use_credit_card',Class]\n",
    "numerical = ['age','year_of_experience','annual_income','zipcode','family_size','average_spending','education_level','mortgage_value',Class]\n",
    "clvalue,counts = np.unique(randomDataSet[Class],return_counts=True) \n",
    "ClassList = list(clvalue)\n"
   ]
  },
  {
   "cell_type": "markdown",
   "metadata": {},
   "source": [
    "### Finding the Frequency Distribution of different attributes"
   ]
  },
  {
   "cell_type": "code",
   "execution_count": null,
   "metadata": {},
   "outputs": [],
   "source": [
    "distribution_finder(randomDataSet)\n"
   ]
  },
  {
   "cell_type": "markdown",
   "metadata": {},
   "source": [
    "### Validating the data set"
   ]
  },
  {
   "cell_type": "code",
   "execution_count": null,
   "metadata": {},
   "outputs": [],
   "source": [
    "true_positive, true_negative, false_positive, false_negative = validation(trainingSet, validationSet)\n"
   ]
  },
  {
   "cell_type": "markdown",
   "metadata": {},
   "source": [
    "### Calculating the accuracy for validation set"
   ]
  },
  {
   "cell_type": "code",
   "execution_count": null,
   "metadata": {},
   "outputs": [],
   "source": [
    "accuracy(true_positive , true_negative , false_positive, false_negative)\n"
   ]
  },
  {
   "cell_type": "markdown",
   "metadata": {},
   "source": [
    "#### TESTING function resturns list of output"
   ]
  },
  {
   "cell_type": "code",
   "execution_count": null,
   "metadata": {},
   "outputs": [],
   "source": [
    "def TESTING_algo(trainingSet, testingSet):\n",
    "    res = []\n",
    "    meanst_no_yes = mean_stddev(trainingSet)\n",
    "    for index, row in testingSet.iterrows():\n",
    "        prob_no = 0\n",
    "        prob_yes = 0\n",
    "        for attr in catagorical[:-1]:\n",
    "            lprob_no, lprob_yes = cat_probability(trainingSet, row, attr)\n",
    "            prob_no += lprob_no\n",
    "            prob_yes += lprob_yes\n",
    "        for attr in numerical[:-1]:\n",
    "            lprob_no, lprob_yes = num_probability(meanst_no_yes, row, attr)\n",
    "            prob_no += lprob_no\n",
    "            prob_yes += lprob_yes\n",
    "        e_no, e_yes = evidence(trainingSet, row)\n",
    "        prob_no += np.log2(e_no)\n",
    "        prob_yes += np.log2(e_yes)\n",
    "        if prob_yes > prob_no:\n",
    "            res.append(ClassList[1])\n",
    "        else:\n",
    "            res.append(ClassList[0])\n",
    "    return res"
   ]
  },
  {
   "cell_type": "markdown",
   "metadata": {},
   "source": [
    "### TEST YOUR DATASET HERE....\n"
   ]
  },
  {
   "cell_type": "code",
   "execution_count": null,
   "metadata": {},
   "outputs": [],
   "source": [
    "def test(arr):\n",
    "    length = len(arr)\n",
    "    global columns\n",
    "    if length == 2:\n",
    "        testSetPath = arr[1]\n",
    "        testingData = pd.read_csv(testSetPath, header=None)\n",
    "        testingData.columns = columns\n",
    "        res = TESTING_algo(trainingSet, testingData)\n",
    "        testingData['RESULT'] = res\n",
    "        testingData.to_csv(\"./../output_data/q-2_data_output.csv\",index = False)\n",
    "    return testingData"
   ]
  },
  {
   "cell_type": "code",
   "execution_count": null,
   "metadata": {},
   "outputs": [],
   "source": [
    "test(sys.argv)\n"
   ]
  },
  {
   "cell_type": "markdown",
   "metadata": {},
   "source": [
    "## Observation:\n",
    "#### 1) The distribution was identified by plotting graphs for each of the column against the frequencies.\n",
    "#### 2) Except mortgage value, all the columns follow the Gaussian Distribution.\n",
    "#### 3) Since the mortgage column did not have the gaussian distribution, the accuracy is lesser than it should be."
   ]
  },
  {
   "cell_type": "code",
   "execution_count": null,
   "metadata": {},
   "outputs": [],
   "source": []
  }
 ],
 "metadata": {
  "kernelspec": {
   "display_name": "Python 3",
   "language": "python",
   "name": "python3"
  },
  "language_info": {
   "codemirror_mode": {
    "name": "ipython",
    "version": 3
   },
   "file_extension": ".py",
   "mimetype": "text/x-python",
   "name": "python",
   "nbconvert_exporter": "python",
   "pygments_lexer": "ipython3",
   "version": "3.6.5"
  }
 },
 "nbformat": 4,
 "nbformat_minor": 2
}
