{
 "cells": [
  {
   "cell_type": "code",
   "execution_count": 159,
   "metadata": {},
   "outputs": [],
   "source": [
    "from copy import deepcopy\n",
    "import numpy as np\n",
    "import pandas as pd\n",
    "import math as mt\n",
    "import sys\n",
    "import matplotlib.pyplot as plt\n",
    "from sklearn.preprocessing import StandardScaler\n",
    "# from sklearn.preprocessing import MinMaxScaler\n",
    "\n",
    "eps = np.finfo(float).eps"
   ]
  },
  {
   "cell_type": "code",
   "execution_count": 160,
   "metadata": {},
   "outputs": [
    {
     "data": {
      "text/plain": [
       "array([[ 1.00890196e+00, -2.72003274e-01,  2.95987665e-02, ...,\n",
       "         2.80443455e-01, -5.76274406e-02,  4.77105290e-01],\n",
       "       [-4.95837288e-01,  1.12090840e+00,  2.11957571e-01, ...,\n",
       "         2.14390935e-01, -6.16872531e-02,  6.10498086e-02],\n",
       "       [-3.80233552e+00, -1.24809808e+00,  5.87652634e-02, ...,\n",
       "         1.19713691e-01, -9.64850412e-04, -2.78396972e-01],\n",
       "       ...,\n",
       "       [-2.48968809e-01, -3.36180688e-01,  1.20143333e-01, ...,\n",
       "         3.36328742e-01,  2.33585523e-02, -9.21945238e-01],\n",
       "       [-3.72842214e+00, -1.32675911e+00, -6.57663946e-03, ...,\n",
       "         1.28515468e-01, -1.30273284e-02,  3.60683412e-01],\n",
       "       [ 1.05528525e+00, -3.81812087e-01, -1.45448406e-02, ...,\n",
       "         3.82754916e-01, -4.64762935e-02,  3.59207976e-01]])"
      ]
     },
     "execution_count": 160,
     "metadata": {},
     "output_type": "execute_result"
    }
   ],
   "source": [
    "dataSet = pd.read_csv(\"./../input_data/q-1-1_output.csv\")\n",
    "# dataSet, validationSet = np.split(dataSet, [int(0.02*len(dataSet))])\n",
    "\n",
    "Class = \"xAttack\"\n",
    "columns = list(dataSet.columns)\n",
    "X = dataSet[columns[:-1]].values\n",
    "X"
   ]
  },
  {
   "cell_type": "code",
   "execution_count": 161,
   "metadata": {},
   "outputs": [],
   "source": [
    "K = 5"
   ]
  },
  {
   "cell_type": "code",
   "execution_count": 162,
   "metadata": {},
   "outputs": [
    {
     "name": "stdout",
     "output_type": "stream",
     "text": [
      "[ 1.00890196 -0.27200327  0.02959877  0.15004921  0.25969188  0.57809431\n",
      " -0.05892069 -0.17451924  0.26930735  0.03429412 -0.06637333  0.28044345\n",
      " -0.05762744  0.47710529]\n",
      "======================\n",
      "[-0.49583729  1.1209084   0.21195757  1.34093996 -1.3997653   2.61465542\n",
      " -1.432534    0.27244358 -0.05126522  0.0114992  -0.16350418  0.21439093\n",
      " -0.06168725  0.06104981]\n",
      "======================\n",
      "[-3.80233552e+00 -1.24809808e+00  5.87652634e-02  4.34412420e-01\n",
      "  3.94423890e-01 -1.08575595e-01  1.40224618e-01  1.72886024e-01\n",
      " -7.80862198e-02  6.33176921e-03  9.40855982e-03  1.19713691e-01\n",
      " -9.64850412e-04 -2.78396972e-01]\n",
      "======================\n",
      "[ 2.10318992e+00 -1.05018700e+00 -3.76034037e-02 -2.24249586e-03\n",
      "  8.58470721e-01 -2.42829198e-01  2.91539152e-02  2.30058689e-01\n",
      " -3.48209922e-02 -3.26830814e-03  1.68715930e-03  5.33301574e-02\n",
      " -1.78822206e-01  7.76298962e-01]\n",
      "======================\n",
      "[ 1.8917476  -0.88135605 -0.15623995 -1.17018857  0.58316434  0.26842843\n",
      " -0.04216582  0.31249993 -0.09350689 -0.00682037  0.05559803  0.06931322\n",
      " -0.05259683 -0.06715927]\n",
      "======================\n"
     ]
    }
   ],
   "source": [
    "centroids = []\n",
    "for i in range(0,K):\n",
    "    centroids.append(X[i])\n",
    "for i in range(len(centroids)):\n",
    "    print(centroids[i])\n",
    "    print(\"======================\")"
   ]
  },
  {
   "cell_type": "code",
   "execution_count": 163,
   "metadata": {},
   "outputs": [],
   "source": [
    "def euclidianDistance(row , listrow):\n",
    "    distance = 0\n",
    "    for i in range(0 , listrow.shape[0]):\n",
    "        distance += np.square(row[i]-listrow[i])\n",
    "    return np.sqrt(distance)"
   ]
  },
  {
   "cell_type": "code",
   "execution_count": 164,
   "metadata": {},
   "outputs": [],
   "source": [
    "def meandist(cluster_dict, k):\n",
    "    return np.mean(np.array(cluster_dict[k]), axis = 0)"
   ]
  },
  {
   "cell_type": "code",
   "execution_count": 166,
   "metadata": {
    "scrolled": true
   },
   "outputs": [
    {
     "name": "stdout",
     "output_type": "stream",
     "text": [
      "1 4.093273880419655\n",
      "2 4.232281842405869e-14\n",
      "3 2.90831042626369e-14\n",
      "4 4.3658153999004714e-14\n",
      "5 3.612141452037623e-14\n",
      "6 2.959574157611997e-14\n",
      "7 2.6852348794454166e-14\n",
      "8 3.0910658827577245e-14\n",
      "9 1.1999373787008534e-13\n",
      "10 8.472169276523255e-14\n",
      "11 6.940125806313403e-14\n",
      "12 6.173146477406976e-14\n",
      "13 5.032068884086772e-14\n",
      "14 5.021281007428877e-14\n",
      "15 4.606945208448284e-14\n",
      "16 4.206559789325213e-14\n",
      "17 4.309256487620954e-14\n",
      "18 3.948389320188542e-14\n",
      "19 3.567065771675247e-14\n",
      "20 4.79391331829939e-14\n",
      "21 4.185345371596615e-14\n",
      "22 3.933847426617965e-14\n",
      "23 3.496706525026081e-14\n",
      "24 3.6112942499084316e-14\n",
      "25 3.2854745151879584e-14\n",
      "26 3.7983743849901404e-14\n"
     ]
    },
    {
     "ename": "KeyboardInterrupt",
     "evalue": "",
     "output_type": "error",
     "traceback": [
      "\u001b[0;31m---------------------------------------------------------------------------\u001b[0m",
      "\u001b[0;31mKeyboardInterrupt\u001b[0m                         Traceback (most recent call last)",
      "\u001b[0;32m<ipython-input-166-bbf5200e3330>\u001b[0m in \u001b[0;36m<module>\u001b[0;34m\u001b[0m\n\u001b[1;32m     13\u001b[0m         \u001b[0mdist\u001b[0m \u001b[0;34m=\u001b[0m \u001b[0;34m[\u001b[0m\u001b[0;34m]\u001b[0m\u001b[0;34m\u001b[0m\u001b[0;34m\u001b[0m\u001b[0m\n\u001b[1;32m     14\u001b[0m         \u001b[0;32mfor\u001b[0m \u001b[0mi\u001b[0m \u001b[0;32min\u001b[0m \u001b[0mrange\u001b[0m\u001b[0;34m(\u001b[0m\u001b[0;36m0\u001b[0m\u001b[0;34m,\u001b[0m\u001b[0mlen\u001b[0m\u001b[0;34m(\u001b[0m\u001b[0mcentroids\u001b[0m\u001b[0;34m)\u001b[0m\u001b[0;34m)\u001b[0m\u001b[0;34m:\u001b[0m\u001b[0;34m\u001b[0m\u001b[0;34m\u001b[0m\u001b[0m\n\u001b[0;32m---> 15\u001b[0;31m             \u001b[0mdist\u001b[0m\u001b[0;34m.\u001b[0m\u001b[0mappend\u001b[0m\u001b[0;34m(\u001b[0m\u001b[0meuclidianDistance\u001b[0m\u001b[0;34m(\u001b[0m\u001b[0mrow\u001b[0m \u001b[0;34m,\u001b[0m \u001b[0mcentroids\u001b[0m\u001b[0;34m[\u001b[0m\u001b[0mi\u001b[0m\u001b[0;34m]\u001b[0m\u001b[0;34m)\u001b[0m\u001b[0;34m)\u001b[0m\u001b[0;34m\u001b[0m\u001b[0;34m\u001b[0m\u001b[0m\n\u001b[0m\u001b[1;32m     16\u001b[0m         \u001b[0mcluster_dict\u001b[0m\u001b[0;34m[\u001b[0m\u001b[0mdist\u001b[0m\u001b[0;34m.\u001b[0m\u001b[0mindex\u001b[0m\u001b[0;34m(\u001b[0m\u001b[0mmin\u001b[0m\u001b[0;34m(\u001b[0m\u001b[0mdist\u001b[0m\u001b[0;34m)\u001b[0m\u001b[0;34m)\u001b[0m\u001b[0;34m]\u001b[0m\u001b[0;34m.\u001b[0m\u001b[0mappend\u001b[0m\u001b[0;34m(\u001b[0m\u001b[0mlist\u001b[0m\u001b[0;34m(\u001b[0m\u001b[0mrow\u001b[0m\u001b[0;34m)\u001b[0m\u001b[0;34m)\u001b[0m\u001b[0;34m\u001b[0m\u001b[0;34m\u001b[0m\u001b[0m\n\u001b[1;32m     17\u001b[0m         \u001b[0mcenters_old\u001b[0m \u001b[0;34m=\u001b[0m \u001b[0mdeepcopy\u001b[0m\u001b[0;34m(\u001b[0m\u001b[0mcenters_new\u001b[0m\u001b[0;34m)\u001b[0m\u001b[0;34m\u001b[0m\u001b[0;34m\u001b[0m\u001b[0m\n",
      "\u001b[0;32m<ipython-input-163-257842f57e0e>\u001b[0m in \u001b[0;36meuclidianDistance\u001b[0;34m(row, listrow)\u001b[0m\n\u001b[1;32m      2\u001b[0m     \u001b[0mdistance\u001b[0m \u001b[0;34m=\u001b[0m \u001b[0;36m0\u001b[0m\u001b[0;34m\u001b[0m\u001b[0;34m\u001b[0m\u001b[0m\n\u001b[1;32m      3\u001b[0m     \u001b[0;32mfor\u001b[0m \u001b[0mi\u001b[0m \u001b[0;32min\u001b[0m \u001b[0mrange\u001b[0m\u001b[0;34m(\u001b[0m\u001b[0;36m0\u001b[0m \u001b[0;34m,\u001b[0m \u001b[0mlistrow\u001b[0m\u001b[0;34m.\u001b[0m\u001b[0mshape\u001b[0m\u001b[0;34m[\u001b[0m\u001b[0;36m0\u001b[0m\u001b[0;34m]\u001b[0m\u001b[0;34m)\u001b[0m\u001b[0;34m:\u001b[0m\u001b[0;34m\u001b[0m\u001b[0;34m\u001b[0m\u001b[0m\n\u001b[0;32m----> 4\u001b[0;31m         \u001b[0mdistance\u001b[0m \u001b[0;34m+=\u001b[0m \u001b[0mnp\u001b[0m\u001b[0;34m.\u001b[0m\u001b[0msquare\u001b[0m\u001b[0;34m(\u001b[0m\u001b[0mrow\u001b[0m\u001b[0;34m[\u001b[0m\u001b[0mi\u001b[0m\u001b[0;34m]\u001b[0m\u001b[0;34m-\u001b[0m\u001b[0mlistrow\u001b[0m\u001b[0;34m[\u001b[0m\u001b[0mi\u001b[0m\u001b[0;34m]\u001b[0m\u001b[0;34m)\u001b[0m\u001b[0;34m\u001b[0m\u001b[0;34m\u001b[0m\u001b[0m\n\u001b[0m\u001b[1;32m      5\u001b[0m     \u001b[0;32mreturn\u001b[0m \u001b[0mnp\u001b[0m\u001b[0;34m.\u001b[0m\u001b[0msqrt\u001b[0m\u001b[0;34m(\u001b[0m\u001b[0mdistance\u001b[0m\u001b[0;34m)\u001b[0m\u001b[0;34m\u001b[0m\u001b[0;34m\u001b[0m\u001b[0m\n",
      "\u001b[0;31mKeyboardInterrupt\u001b[0m: "
     ]
    }
   ],
   "source": [
    "centers_old = np.zeros(np.array(centroids).shape) # to store old centers\n",
    "centers_new = deepcopy(np.array(centroids)) # Store new centers\n",
    "\n",
    "error = np.linalg.norm(centers_new - centers_old)\n",
    "\n",
    "cluster_dict = {}\n",
    "for i in range(0,K):\n",
    "    cluster_dict[i] = []\n",
    "itr = 0\n",
    "iterations = 5\n",
    "while error != 0:\n",
    "    for row in X:\n",
    "        dist = []\n",
    "        for i in range(0,len(centroids)):\n",
    "            dist.append(euclidianDistance(row , centroids[i]))\n",
    "        cluster_dict[dist.index(min(dist))].append(list(row))\n",
    "        centers_old = deepcopy(centers_new)\n",
    "#         print(\"row: \", row)\n",
    "#         print(\"min_dist: \",min(dist) )\n",
    "#         if index == 10:\n",
    "#             break\n",
    "#         index += 1\n",
    "    for k in range(0, K):\n",
    "        centers_new[k] = meandist(cluster_dict,k)\n",
    "    error = np.linalg.norm(centers_new - centers_old)\n",
    "    itr += 1\n",
    "    print(itr, error)\n",
    "\n",
    "        \n",
    "\n",
    "cluster_dict"
   ]
  },
  {
   "cell_type": "code",
   "execution_count": null,
   "metadata": {},
   "outputs": [],
   "source": [
    "centroids"
   ]
  },
  {
   "cell_type": "code",
   "execution_count": null,
   "metadata": {},
   "outputs": [],
   "source": []
  },
  {
   "cell_type": "code",
   "execution_count": null,
   "metadata": {},
   "outputs": [],
   "source": []
  }
 ],
 "metadata": {
  "kernelspec": {
   "display_name": "Python 3",
   "language": "python",
   "name": "python3"
  },
  "language_info": {
   "codemirror_mode": {
    "name": "ipython",
    "version": 3
   },
   "file_extension": ".py",
   "mimetype": "text/x-python",
   "name": "python",
   "nbconvert_exporter": "python",
   "pygments_lexer": "ipython3",
   "version": "3.7.1"
  }
 },
 "nbformat": 4,
 "nbformat_minor": 2
}
