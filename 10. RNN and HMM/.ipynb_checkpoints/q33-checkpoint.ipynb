{
 "cells": [
  {
   "cell_type": "markdown",
   "metadata": {},
   "source": [
    "### HMM vs RNN\n",
    "#### 1) The HMMs were better in capturing strong discriminative features\n",
    "#### 2) HMM for early learning (short-term action memory) or when quick reaction towards new stimuli is required and LSTM when        enough data is available (long-term)\n",
    "#### 3) For HMMs, we are doing a lot of the modelling based on knowledge of the problem domain in order to restrict or constrain the structure of the probabilistic (Markov chain) models. We use knowledge of the measurement process to construct sensible probabilistic models for the HMM.\n",
    "#### 4) "
   ]
  },
  {
   "cell_type": "markdown",
   "metadata": {},
   "source": []
  }
 ],
 "metadata": {
  "kernelspec": {
   "display_name": "Python 3",
   "language": "python",
   "name": "python3"
  },
  "language_info": {
   "codemirror_mode": {
    "name": "ipython",
    "version": 3
   },
   "file_extension": ".py",
   "mimetype": "text/x-python",
   "name": "python",
   "nbconvert_exporter": "python",
   "pygments_lexer": "ipython3",
   "version": "3.7.1"
  }
 },
 "nbformat": 4,
 "nbformat_minor": 2
}
