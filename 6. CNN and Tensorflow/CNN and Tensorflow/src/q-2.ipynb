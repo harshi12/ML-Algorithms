{
 "cells": [
  {
   "cell_type": "markdown",
   "metadata": {},
   "source": [
    "# Q 2. Answer the following questions for above architecture:"
   ]
  },
  {
   "cell_type": "markdown",
   "metadata": {},
   "source": [
    "## 1. What are the number of parameters in 1st convolutional layers ?"
   ]
  },
  {
   "cell_type": "markdown",
   "metadata": {},
   "source": [
    "**Solution:** Number of parameters in first conv layer: (3x5x5 + 1)x6 = 456"
   ]
  },
  {
   "cell_type": "markdown",
   "metadata": {},
   "source": [
    "## 2. What are the number of parameters in pooling operation?"
   ]
  },
  {
   "cell_type": "markdown",
   "metadata": {},
   "source": [
    "**Solution:** <br>\n",
    "Filter = 2x2 ,strid = 2 <br>\n",
    "Number of parameters in pooling operation: 0"
   ]
  },
  {
   "cell_type": "markdown",
   "metadata": {},
   "source": [
    "## 3. Which of the following operations contain most number of parameters? \n",
    "### (a) conv (b) pool (c) Fully connected layer (FC) (d) Activation Functions"
   ]
  },
  {
   "cell_type": "markdown",
   "metadata": {},
   "source": [
    "**Solution:** <br>\n",
    "Number of parameters in first conv layer: (3x5x5 + 1)x6 = <b>456</b>, output = 6 @ 28 x 28 <br>\n",
    "Number of parameters in first activation layer: 6x28x28 = <b>1568</b>, output = 6 @ 28 x 28 <br>\n",
    "Number of parameters in first pooling layer: <b>0</b>, output = 6 @ 14 x 14 <br>\n",
    "<br>\n",
    "Number of parameters in second conv layer: (6x5x5 + 1)x16 = <b>2416</b>, output = 16 @ 10 x 10 <br>\n",
    "Number of parameters in second activation layer: 16x10x10 = <b>1600</b>, output = 16 @ 10 x 10 <br>\n",
    "Number of parameters in second pooling layer: <b>0</b>, output = 16 @ 5 x 5 <br>\n",
    "<br>\n",
    "<br>\n",
    "Number of parameters in first fully connected conv layer: (16x5x5)x120 + 120 = <b>48120</b>, output = 120<br>\n",
    "Number of parameters in first activation fully connected conv layer: 120x1 = <b>120</b>, output =120 <br>\n",
    "<br>\n",
    "Number of parameters in second fully connected layer: 120x84 + 84 = <b>10164</b>, output = 84<br>\n",
    "Number of parameters in second activation fully connected layer: 120x1 = <b>84</b>, output = 84 <br>\n",
    "<br>\n",
    "Number of parameters in output layer: 84x10 + 10 = <b>850</b>, output = 10<br>\n",
    "Number of parameters in output activation layer: 10x1 = <b>10</b>, output = 10 <br>\n",
    "<br>\n",
    "\n",
    "**conclusion:**<br>\n",
    "* conv = 456 + 2416 = <b>2872</b><br>\n",
    "* pool = <b>0</b><br>\n",
    "* Fully connected layer = 48120 + 10164 = <b>58284</b><br>\n",
    "* Activation Functions = 1568 + 1600 + 120 + 84 + 10 = <b>3298</b><br><br>\n",
    "\n",
    "**Fully connected layer** has the most number of parameters"
   ]
  },
  {
   "cell_type": "markdown",
   "metadata": {},
   "source": [
    "\n",
    "## 4. Which operation consume most amount of memory?\n",
    "### (a) initial convolution layers (b) fully connected layers at the end"
   ]
  },
  {
   "cell_type": "markdown",
   "metadata": {},
   "source": [
    "**Solution:**<br>\n",
    "Using the results form previous solution, <br>\n",
    "Memory usage for inital convolution layers = (456 + 6x28x28) + (2416 + 16x10x10) = **4016**<br>\n",
    "Memory usage for fully connected layers = 48120 + 10164 + 850 = **11014** <br><br>\n",
    "**Conclusion:**<br> **fully connected layers** consumes most amount of memory"
   ]
  },
  {
   "cell_type": "markdown",
   "metadata": {},
   "source": [
    "## 5. Try different activation functions and describe observations."
   ]
  },
  {
   "cell_type": "markdown",
   "metadata": {},
   "source": [
    "### sigmoid\n",
    "<code>array([[9.66004309e-15],\n",
    "       [1.97327263e-27],\n",
    "       [3.27409889e-03],\n",
    "       [3.83814019e-12],\n",
    "       [1.23348429e-07],\n",
    "       [1.00815695e-17],\n",
    "       [1.45993862e-17],\n",
    "       [7.96545681e-06],\n",
    "       [4.14113116e-16],\n",
    "       [9.96717812e-01]])</code>\n",
    "<br>\n",
    "### tanh\n",
    "<code>array([[5.09719680e-19],\n",
    "       [8.96971718e-15],\n",
    "       [1.60026801e-21],\n",
    "       [4.93867312e-15],\n",
    "       [5.15366689e-22],\n",
    "       [3.04079468e-26],\n",
    "       [2.64712022e-21],\n",
    "       [2.48459472e-11],\n",
    "       [1.00000000e+00],\n",
    "       [1.31448074e-23]])</code>\n",
    "<br>\n",
    "### ReLU\n",
    "<code>array([[0.],\n",
    "       [1.],\n",
    "       [0.],\n",
    "       [0.],\n",
    "       [0.],\n",
    "       [0.],\n",
    "       [0.],\n",
    "       [0.],\n",
    "       [0.],\n",
    "       [0.]])</code>"
   ]
  },
  {
   "cell_type": "code",
   "execution_count": null,
   "metadata": {},
   "outputs": [],
   "source": []
  }
 ],
 "metadata": {
  "kernelspec": {
   "display_name": "Python 3",
   "language": "python",
   "name": "python3"
  },
  "language_info": {
   "codemirror_mode": {
    "name": "ipython",
    "version": 3
   },
   "file_extension": ".py",
   "mimetype": "text/x-python",
   "name": "python",
   "nbconvert_exporter": "python",
   "pygments_lexer": "ipython3",
   "version": "3.7.1"
  }
 },
 "nbformat": 4,
 "nbformat_minor": 2
}
