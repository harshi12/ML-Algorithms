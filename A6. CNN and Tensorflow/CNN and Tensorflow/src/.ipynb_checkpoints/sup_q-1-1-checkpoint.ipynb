{
 "cells": [
  {
   "cell_type": "code",
   "execution_count": 1,
   "metadata": {},
   "outputs": [],
   "source": [
    "# def maxpool(image, f=2, s=2):\n",
    "# #     ```\n",
    "# #     Downsample input `image` using a kernel size of `f` and a stride of `s`\n",
    "# #     ```\n",
    "#     n_c, h_prev, w_prev = image.shape\n",
    "    \n",
    "#     # calculate output dimensions after the maxpooling operation.\n",
    "#     h = int((h_prev - f)/s)+1 \n",
    "#     w = int((w_prev - f)/s)+1\n",
    "    \n",
    "#     # create a matrix to hold the values of the maxpooling operation.\n",
    "#     downsampled = np.zeros((n_c, h, w)) \n",
    "    \n",
    "#     # slide the window over every part of the image using stride s. Take the maximum value at each step.\n",
    "#     for i in range(n_c):\n",
    "#         curr_y = out_y = 0\n",
    "#         # slide the max pooling window vertically across the image\n",
    "#         while curr_y + f <= h_prev:\n",
    "#             curr_x = out_x = 0\n",
    "#             # slide the max pooling window horizontally across the image\n",
    "#             while curr_x + f <= w_prev:\n",
    "#                 # choose the maximum value within the window at each step and store it to the output matrix\n",
    "#                 downsampled[i, out_y, out_x] = np.max(image[i, curr_y:curr_y+f, curr_x:curr_x+f])\n",
    "#                 curr_x += s\n",
    "#                 out_x += 1\n",
    "#             curr_y += s\n",
    "#             out_y += 1\n",
    "# return downsampled"
   ]
  },
  {
   "cell_type": "code",
   "execution_count": 2,
   "metadata": {},
   "outputs": [],
   "source": [
    "def ReLU(x):\n",
    "    return x * (x > 0)\n",
    "\n",
    "def dReLU(x):\n",
    "    return 1. * (x > 0)"
   ]
  },
  {
   "cell_type": "code",
   "execution_count": 29,
   "metadata": {},
   "outputs": [],
   "source": [
    "def maxpool(image, f=2, s=2):\n",
    "#     ```\n",
    "#     Downsample input `image` using a kernel size of `f` and a stride of `s`\n",
    "#     ```\n",
    "#     n_c, h_prev, w_prev = image.shape\n",
    "    image_row, image_col = image.shape\n",
    "    # calculate output dimensions after the maxpooling operation.\n",
    "    max_pool_op_h = int((image_row - f)/s)+1 \n",
    "    max_pool_op_w = int((image_col - f)/s)+1\n",
    "    \n",
    "    # create a matrix to hold the values of the maxpooling operation.\n",
    "    downsampled = np.zeros((max_pool_op_h, max_pool_op_w)) \n",
    "    \n",
    "    # slide the window over every part of the image using stride s. Take the maximum value at each step.\n",
    "#     for i in range(n_c):\n",
    "    curr_y = out_y = 0\n",
    "    # slide the max pooling window vertically across the image\n",
    "    while curr_y + f <= image_row:\n",
    "        curr_x = out_x = 0\n",
    "        # slide the max pooling window horizontally across the image\n",
    "        while curr_x + f <= image_col:\n",
    "            # choose the maximum value within the window at each step and store it to the output matrix\n",
    "            downsampled[out_y, out_x] = np.max(image[curr_y:curr_y+f, curr_x:curr_x+f])\n",
    "            curr_x += s\n",
    "            out_x += 1\n",
    "        curr_y += s\n",
    "        out_y += 1\n",
    "    return downsampled"
   ]
  },
  {
   "cell_type": "code",
   "execution_count": null,
   "metadata": {},
   "outputs": [],
   "source": []
  },
  {
   "cell_type": "code",
   "execution_count": 30,
   "metadata": {},
   "outputs": [],
   "source": [
    "# def apply_filter(image, filt, bias, s=1):\n",
    "    "
   ]
  },
  {
   "cell_type": "code",
   "execution_count": 31,
   "metadata": {},
   "outputs": [],
   "source": [
    "def convolution(image, filt, bias, depth, activation_function, s=1):\n",
    "    '''\n",
    "    Confolves `filt` over `image` using stride `s`\n",
    "    '''\n",
    "    if depth == 1:\n",
    "        (filt_rows, filt_cols) = filt.shape # filter dimensions\n",
    "        image_rows, image_cols = image.shape # image dimensions\n",
    "\n",
    "        out_dim = int((image_cols - filt_rows)/s)+1 # calculate output dimensions\n",
    "        # ensure that the filter dimensions match the dimensions of the input image\n",
    "\n",
    "        output_img = np.zeros((out_dim ,out_dim)) # create the matrix to hold the values of the convolution operation\n",
    "\n",
    "        # convolve each filter over the image\n",
    "    #     for curr_f in range(filt_rows):\n",
    "        curr_y = out_y = 0\n",
    "        # move filter vertically across the image\n",
    "        while curr_y + filt_cols <= image_cols:\n",
    "            curr_x = out_x = 0\n",
    "            # move filter horizontally across the image \n",
    "            while curr_x + filt_rows <= image_rows:\n",
    "                # perform the convolution operation and add the bias\n",
    "                output_img[out_y, out_x] = np.sum(filt * image[curr_y:curr_y+filt_rows, curr_x:curr_x+filt_cols])\n",
    "                curr_x += s\n",
    "                out_x += 1\n",
    "            curr_y += s\n",
    "            out_y += 1\n",
    "#         if activation_function==\"tanh\":\n",
    "#             output_img_new = tanh(output_img)\n",
    "#         if activation_function==\"ReLU\":\n",
    "#             output_img_new = ReLU(output_img)\n",
    "#         if activation_function==\"sigmoid\":\n",
    "#             output_img_new = sigmoid(output_img)\n",
    "        \n",
    "    else:\n",
    "        (filt_depth, filt_rows, filt_cols) = filt.shape # filter dimensions\n",
    "        image_depth, image_rows, image_cols = image.shape # image dimensions\n",
    "\n",
    "        out_dim = int((image_cols - filt_rows)/s)+1 # calculate output dimensions\n",
    "        # ensure that the filter dimensions match the dimensions of the input image\n",
    "\n",
    "        output_img = np.zeros((out_dim ,out_dim)) # create the matrix to hold the values of the convolution operation\n",
    "\n",
    "        # convolve each filter over the image\n",
    "    #     for curr_f in range(filt_rows):\n",
    "        curr_y = out_y = 0\n",
    "        # move filter vertically across the image\n",
    "        while curr_y + filt_cols <= image_cols:\n",
    "            curr_x = out_x = 0\n",
    "            # move filter horizontally across the image \n",
    "            while curr_x + filt_rows <= image_rows:\n",
    "                # perform the convolution operation and add the bias\n",
    "                output_img[out_y, out_x] = np.sum(filt * image[:,curr_y:curr_y+filt_rows, curr_x:curr_x+filt_cols])\n",
    "                curr_x += s\n",
    "                out_x += 1\n",
    "            curr_y += s\n",
    "            out_y += 1\n",
    "#         if activation_function==\"tanh\":\n",
    "#             output_img_new = tanh(output_img)\n",
    "#         if activation_function==\"ReLU\":\n",
    "#             output_img_new = ReLU(output_img)\n",
    "#         if activation_function==\"sigmoid\":\n",
    "#             output_img_new = sigmoid(output_img)\n",
    "#         output_img_new = tanh(output_img)\n",
    "    return output_img"
   ]
  },
  {
   "cell_type": "code",
   "execution_count": 32,
   "metadata": {},
   "outputs": [],
   "source": [
    "def pad_with(vector, pad_width, iaxis, kwargs):\n",
    "    pad_value = kwargs.get('padder', 0)\n",
    "    vector[:pad_width[0]] = pad_value\n",
    "    vector[-pad_width[1]:] = pad_value\n",
    "    return vector\n"
   ]
  },
  {
   "cell_type": "code",
   "execution_count": 33,
   "metadata": {},
   "outputs": [],
   "source": [
    "def rgb2gray(rgb):\n",
    "    return np.dot(rgb[...,:3], [0.299, 0.587, 0.114])"
   ]
  },
  {
   "cell_type": "code",
   "execution_count": 34,
   "metadata": {},
   "outputs": [],
   "source": [
    "# def forward_feed(X):\n",
    "#     filter_ht_wdt = 5\n",
    "    \n",
    "#     step_1_conv_iter = 6\n",
    "    \n",
    "# #     for i in range(step_1_conv_iter):"
   ]
  },
  {
   "cell_type": "code",
   "execution_count": 35,
   "metadata": {},
   "outputs": [],
   "source": [
    "def apply_filter_on_allLayer(num_layers, img_in_gray, filt_rows, filt_cols, depth, activation_function):\n",
    "    depth_of_1filter = img_in_gray.shape[0]\n",
    "    conv_out_dim = int((img_in_gray.shape[1] - filt_rows))+1 # calculate output dimensions\n",
    "    conv_output = np.random.randn(num_layers, conv_out_dim, conv_out_dim)\n",
    "    print(\"conv1 shape :\",conv_output.shape)\n",
    "    if depth == 1:\n",
    "        for i in range(num_layers):\n",
    "            temp_img_in_gray = img_in_gray\n",
    "            weight = np.random.normal(0, np.sqrt(2.0/filt_rows), (filt_rows,filt_cols))\n",
    "            bias = np.random.normal(0, np.sqrt(2.0/num_layers), filt_cols)\n",
    "            res = convolution(temp_img_in_gray, weight, bias, depth, activation_function)\n",
    "            conv_output[i] = res\n",
    "    else:\n",
    "        for i in range(num_layers):\n",
    "            temp_img_in_gray = img_in_gray\n",
    "            weight = np.random.normal(0, np.sqrt(2.0/filt_rows), (depth_of_1filter, filt_rows,filt_cols))\n",
    "            bias = np.random.normal(0, np.sqrt(2.0/num_layers), num_layers)\n",
    "            res = convolution(temp_img_in_gray, weight, bias, depth, activation_function)\n",
    "            conv_output[i] = res\n",
    "    if activation_function==\"tanh\":\n",
    "        output_img_new = tanh(conv_output)\n",
    "    if activation_function==\"ReLU\":\n",
    "        output_img_new = ReLU(conv_output)\n",
    "    if activation_function==\"sigmoid\":\n",
    "        output_img_new = sigmoid(conv_output)\n",
    "    return output_img_new"
   ]
  },
  {
   "cell_type": "code",
   "execution_count": 36,
   "metadata": {},
   "outputs": [],
   "source": [
    "def apply_maxFilter_on_allLayer(num_layers, conv1_output, f=2, s=2):\n",
    "    \n",
    "    max_pool1_dim = int((conv1_output[0].shape[0] - f)/s + 1)\n",
    "    max_pool1 = np.zeros((num_layers, max_pool1_dim, max_pool1_dim))\n",
    "    \n",
    "    for i in range(num_layers):\n",
    "        downsampled_image = maxpool(conv1_output[i])\n",
    "        max_pool1[i] = downsampled_image\n",
    "\n",
    "    return max_pool1"
   ]
  },
  {
   "cell_type": "code",
   "execution_count": 37,
   "metadata": {},
   "outputs": [],
   "source": [
    "def softmax(x):\n",
    "    \"\"\"Compute softmax values for each sets of scores in x.\"\"\"\n",
    "    e_x = np.exp(x - np.max(x))\n",
    "    return e_x / e_x.sum(axis=0)"
   ]
  },
  {
   "cell_type": "code",
   "execution_count": 38,
   "metadata": {},
   "outputs": [],
   "source": [
    "import numpy as np\n",
    "def sigmoid(num):\n",
    "    x = 1.0/(1+np.exp(-num))\n",
    "    return x"
   ]
  },
  {
   "cell_type": "code",
   "execution_count": 39,
   "metadata": {},
   "outputs": [],
   "source": [
    "import numpy as np\n",
    "def tanh(x):\n",
    "  return np.tanh(x)\n"
   ]
  },
  {
   "cell_type": "code",
   "execution_count": 40,
   "metadata": {},
   "outputs": [],
   "source": [
    "# def plot(list_plot, x, y):\n",
    "#     fig, ax = plt.subplots(x, y, figsize = [10,10])\n",
    "#     for i in range(x):\n",
    "#         for j in range(y):\n",
    "#             for l in list_plot:\n",
    "#                 ax[i,j].imshow(l, cmap = \"gray\")\n",
    "                \n",
    "def plot(lst_mat,row,col):\n",
    "    f, ax = plt.subplots(row, col, figsize=(5,5))\n",
    "    i,j=0,0\n",
    "    for k in lst_mat:\n",
    "        ax[i, j].imshow(k)\n",
    "        j+=1\n",
    "        if(j==col):\n",
    "            j=0\n",
    "            i+=1\n"
   ]
  },
  {
   "cell_type": "code",
   "execution_count": 41,
   "metadata": {
    "scrolled": true
   },
   "outputs": [
    {
     "name": "stdout",
     "output_type": "stream",
     "text": [
      "(32, 32)\n"
     ]
    },
    {
     "data": {
      "image/png": "[encoded data removed]",
      "text/plain": [
       "<Figure size 432x288 with 1 Axes>"
      ]
     },
     "metadata": {
      "needs_background": "light"
     },
     "output_type": "display_data"
    }
   ],
   "source": [
    "import numpy as np\n",
    "import matplotlib.pylab as plt\n",
    "\n",
    "%matplotlib inline\n",
    "\n",
    "img_in_rgb = plt.imread('./../input_data/man.jpeg')\n",
    "plt.imshow(img_in_rgb)\n",
    "\n",
    "img_in_gray = rgb2gray(img_in_rgb)\n",
    "print(img_in_gray.shape)\n",
    "# activation_function = \"ReLU\"\n",
    "# activation_function = \"tanh\"\n",
    "activation_function = \"ReLU\"\n"
   ]
  },
  {
   "cell_type": "code",
   "execution_count": 42,
   "metadata": {
    "scrolled": true
   },
   "outputs": [
    {
     "name": "stdout",
     "output_type": "stream",
     "text": [
      "conv1 shape : (6, 28, 28)\n",
      "[[[ 657.08150982  398.08223274  567.71897529 ...   -0.\n",
      "     -0.          261.71624963]\n",
      "  [ 590.31396654  505.32758748  271.47279912 ...   98.29709055\n",
      "     -0.          405.54996361]\n",
      "  [ 461.58580765  581.41226367   -0.         ...   -0.\n",
      "     -0.           58.7082755 ]\n",
      "  ...\n",
      "  [ 317.13836266  502.2435419   295.38510034 ...   -0.\n",
      "     -0.           -0.        ]\n",
      "  [ 674.43557891  923.71992225  430.58465139 ...  524.80909274\n",
      "    189.11695864   -0.        ]\n",
      "  [ 656.75310915  811.43178025  120.64362755 ...  571.81667803\n",
      "    510.0158339   744.96033588]]\n",
      "\n",
      " [[  -0.           -0.           -0.         ...   -0.\n",
      "     -0.           75.90979993]\n",
      "  [  -0.           -0.           -0.         ...   -0.\n",
      "     -0.           -0.        ]\n",
      "  [  -0.           -0.           -0.         ...   -0.\n",
      "     -0.           -0.        ]\n",
      "  ...\n",
      "  [   9.60073796   -0.           -0.         ...   -0.\n",
      "    130.4127618    -0.        ]\n",
      "  [  -0.           -0.           -0.         ...   -0.\n",
      "     -0.           -0.        ]\n",
      "  [  65.6073861    -0.           -0.         ...   -0.\n",
      "     -0.           -0.        ]]\n",
      "\n",
      " [[ 141.11745264  128.71470041   -0.         ...  202.88497806\n",
      "    544.0590868   202.36852697]\n",
      "  [  -0.           -0.           -0.         ...   87.17112167\n",
      "    719.2789794    60.63607311]\n",
      "  [  65.40283088   -0.           -0.         ...   -0.\n",
      "    431.79803871  182.45653998]\n",
      "  ...\n",
      "  [ 332.63974613   -0.           -0.         ...  276.52484486\n",
      "    123.87245537  472.11401411]\n",
      "  [ 214.52251129   -0.           -0.         ...   -0.\n",
      "     68.50320478  123.68506981]\n",
      "  [  -0.           -0.           36.50564123 ...  370.84679612\n",
      "    643.42312515   -0.        ]]\n",
      "\n",
      " [[  -0.           -0.           -0.         ...   -0.\n",
      "     -0.           62.7450094 ]\n",
      "  [  -0.           -0.           -0.         ...   -0.\n",
      "     -0.           78.16827894]\n",
      "  [  -0.           -0.           -0.         ...   95.19086706\n",
      "     -0.           -0.        ]\n",
      "  ...\n",
      "  [  -0.           -0.           -0.         ...    6.17463003\n",
      "    175.49668985   -0.        ]\n",
      "  [  -0.           55.04528637   -0.         ...  142.51169206\n",
      "     -0.           -0.        ]\n",
      "  [  -0.           -0.           -0.         ...   -0.\n",
      "     -0.           83.15894558]]\n",
      "\n",
      " [[ 563.02509448  612.23692373   -0.         ...   25.54346408\n",
      "     14.86385825   -0.        ]\n",
      "  [ 870.33677434   11.34026287    1.18169239 ...   63.44213606\n",
      "    338.69484242   -0.        ]\n",
      "  [ 709.26437417   -0.          374.68282129 ...  205.80199011\n",
      "     -0.           -0.        ]\n",
      "  ...\n",
      "  [ 467.83725263  349.44776461   -0.         ...   -0.\n",
      "     55.17241322  324.72593665]\n",
      "  [ 291.75038825   -0.           -0.         ...   -0.\n",
      "    133.76001784   -0.        ]\n",
      "  [  95.21031823   -0.          441.21805036 ...   -0.\n",
      "     -0.           38.36860742]]\n",
      "\n",
      " [[ 501.48310447  532.59269705  354.20146552 ...  330.463156\n",
      "    603.0749303   830.27802878]\n",
      "  [ 387.05851323  399.9510258   590.93955995 ...  107.48167477\n",
      "    848.1475045   740.79036913]\n",
      "  [ 533.11145857  296.28951276  941.63014079 ...  379.65128682\n",
      "    506.03822103  562.71883743]\n",
      "  ...\n",
      "  [ 392.57661231  515.94638514  406.03745311 ...  744.10371401\n",
      "   1008.18028764  883.31809366]\n",
      "  [ 685.55499631  620.96373715  534.36909409 ...  574.5537597\n",
      "    527.65979379  567.58870888]\n",
      "  [ 747.02966769  656.63092728  325.82715487 ...  491.51338299\n",
      "    593.8536546   776.92452436]]]\n"
     ]
    },
    {
     "data": {
      "image/png": "[encoded data removed]",
      "text/plain": [
       "<Figure size 360x360 with 6 Axes>"
      ]
     },
     "metadata": {
      "needs_background": "light"
     },
     "output_type": "display_data"
    }
   ],
   "source": [
    "# applying 6 filters \n",
    "filt_rows, filt_cols, num_layers = 5,5,6\n",
    "conv1_output = apply_filter_on_allLayer(num_layers, img_in_gray, filt_rows, filt_cols, 1, activation_function)\n",
    "print(conv1_output)\n",
    "# plt.imshow(conv1_output[3], cmap = \"gray\")\n",
    "plot(conv1_output,3, 2)\n",
    "# print(\" list of conv1 3d mat : \",conv1_output[0])"
   ]
  },
  {
   "cell_type": "code",
   "execution_count": 43,
   "metadata": {},
   "outputs": [
    {
     "name": "stdout",
     "output_type": "stream",
     "text": [
      "(6, 14, 14)\n"
     ]
    },
    {
     "data": {
      "image/png": "[encoded data removed]",
      "text/plain": [
       "<Figure size 360x360 with 6 Axes>"
      ]
     },
     "metadata": {
      "needs_background": "light"
     },
     "output_type": "display_data"
    }
   ],
   "source": [
    "# applying max pool function on all 6 subsamples \n",
    "f, s = 2,2\n",
    "max_pool1 = apply_maxFilter_on_allLayer(num_layers, conv1_output, f, s)\n",
    "# plt.imshow(max_pool1[3], cmap = \"gray\") \n",
    "plot(conv1_output,3,2)\n",
    "print(max_pool1.shape)"
   ]
  },
  {
   "cell_type": "code",
   "execution_count": 44,
   "metadata": {},
   "outputs": [
    {
     "name": "stdout",
     "output_type": "stream",
     "text": [
      "(6, 14, 14)\n",
      "conv1 shape : (16, 10, 10)\n"
     ]
    },
    {
     "data": {
      "image/png": "[encoded data removed]",
      "text/plain": [
       "<Figure size 360x360 with 16 Axes>"
      ]
     },
     "metadata": {
      "needs_background": "light"
     },
     "output_type": "display_data"
    }
   ],
   "source": [
    "num_layers2 = 16\n",
    "conv2_out_dim = int((max_pool1.shape[1] - filt_rows))+1 # calculate output dimensions\n",
    "print(max_pool1.shape)\n",
    "# filt_layer2 = np.random.randn(num_layers2, conv2_out_dim, conv2_out_dim)\n",
    "conv2_output = apply_filter_on_allLayer(num_layers2 , max_pool1, filt_rows, filt_cols, 2, activation_function)\n",
    "# plt.imshow(conv2_output[0], cmap = \"gray\")\n",
    "plot(conv2_output,4,4)"
   ]
  },
  {
   "cell_type": "code",
   "execution_count": 45,
   "metadata": {},
   "outputs": [
    {
     "name": "stdout",
     "output_type": "stream",
     "text": [
      "(16, 5, 5)\n"
     ]
    },
    {
     "data": {
      "image/png": "[encoded data removed]",
      "text/plain": [
       "<Figure size 360x360 with 16 Axes>"
      ]
     },
     "metadata": {
      "needs_background": "light"
     },
     "output_type": "display_data"
    }
   ],
   "source": [
    "# applying max pool function on all 6 subsamples \n",
    "f, s = 2,2\n",
    "max_pool2 = apply_maxFilter_on_allLayer(num_layers2, conv2_output, f, s)\n",
    "# plt.imshow(max_pool2[3], cmap = \"gray\") \n",
    "plot(max_pool2,4,4)\n",
    "print(max_pool2.shape)"
   ]
  },
  {
   "cell_type": "code",
   "execution_count": 20,
   "metadata": {},
   "outputs": [
    {
     "name": "stdout",
     "output_type": "stream",
     "text": [
      "(16, 5, 5)\n"
     ]
    },
    {
     "data": {
      "text/plain": [
       "(400, 1)"
      ]
     },
     "execution_count": 20,
     "metadata": {},
     "output_type": "execute_result"
    }
   ],
   "source": [
    "num_layers3 = 120\n",
    "conv3_out_dim = int((max_pool2.shape[1] - filt_rows))+1 # calculate output dimensions\n",
    "print(max_pool2.shape)\n",
    "flatten_conv2 =  max_pool2.reshape(max_pool2.shape[0] * max_pool2.shape[1] * max_pool2.shape[2], 1)\n",
    "flatten_conv2.shape\n",
    "# plot(flatten_conv2,4,4)\n",
    "# conv3_output = apply_filter_on_allLayer(num_layers3 , max_pool2, filt_rows, filt_cols, 3, activation_function)\n",
    "# plt.imshow(conv3_output[20], cmap = \"gray\")"
   ]
  },
  {
   "cell_type": "code",
   "execution_count": 21,
   "metadata": {},
   "outputs": [
    {
     "data": {
      "text/plain": [
       "(120, 1)"
      ]
     },
     "execution_count": 21,
     "metadata": {},
     "output_type": "execute_result"
    }
   ],
   "source": [
    "# F6_flatten = conv3_output.reshape(conv3_output.shape[0]*conv3_output.shape[1]*conv3_output.shape[2],1) \n",
    "# F6_flatten\n",
    "filter_layer4 = np.random.randn(120,400)\n",
    "S4 = np.dot(filter_layer4, flatten_conv2)\n",
    "S4.shape\n",
    "\n"
   ]
  },
  {
   "cell_type": "code",
   "execution_count": 22,
   "metadata": {},
   "outputs": [
    {
     "data": {
      "text/plain": [
       "(84, 1)"
      ]
     },
     "execution_count": 22,
     "metadata": {},
     "output_type": "execute_result"
    }
   ],
   "source": [
    "filter_layer5 = np.random.randn(84,120)\n",
    "S5 = np.dot(filter_layer5,S4)\n",
    "S5.shape"
   ]
  },
  {
   "cell_type": "code",
   "execution_count": 23,
   "metadata": {},
   "outputs": [
    {
     "data": {
      "text/plain": [
       "(84, 1)"
      ]
     },
     "execution_count": 23,
     "metadata": {},
     "output_type": "execute_result"
    }
   ],
   "source": [
    "F6 = S5.reshape(S5.shape[0]*S5.shape[1], 1)\n",
    "F6.shape"
   ]
  },
  {
   "cell_type": "code",
   "execution_count": 24,
   "metadata": {},
   "outputs": [
    {
     "data": {
      "text/plain": [
       "(10, 1)"
      ]
     },
     "execution_count": 24,
     "metadata": {},
     "output_type": "execute_result"
    }
   ],
   "source": [
    "filter_layer6 = np.random.randn(10, 84)\n",
    "output = np.dot(filter_layer6, F6)\n",
    "output.shape"
   ]
  },
  {
   "cell_type": "code",
   "execution_count": 25,
   "metadata": {},
   "outputs": [
    {
     "data": {
      "text/plain": [
       "array([[0.],\n",
       "       [0.],\n",
       "       [0.],\n",
       "       [0.],\n",
       "       [0.],\n",
       "       [0.],\n",
       "       [0.],\n",
       "       [0.],\n",
       "       [1.],\n",
       "       [0.]])"
      ]
     },
     "execution_count": 25,
     "metadata": {},
     "output_type": "execute_result"
    }
   ],
   "source": [
    "output_soft = softmax(output)\n",
    "output_soft"
   ]
  },
  {
   "cell_type": "code",
   "execution_count": 26,
   "metadata": {},
   "outputs": [],
   "source": [
    "# random_wt = np.random.randn(1,84)\n",
    "# mat_F6 = np.dot(F6_flatten, random_wt) \n",
    "# mat_F6.shape"
   ]
  },
  {
   "cell_type": "code",
   "execution_count": 27,
   "metadata": {},
   "outputs": [],
   "source": [
    "# random_wt_last = np.random.randn(84, 10)\n",
    "# random_wt_last.shape\n",
    "# mat_last_layer = np.dot(mat_F6,random_wt_last)\n",
    "# mat_last_layer.shape"
   ]
  },
  {
   "cell_type": "code",
   "execution_count": 28,
   "metadata": {},
   "outputs": [],
   "source": [
    "# x = np.array([[[1]],[[2]],[[3]],[[4]]])\n",
    "# x.shape\n",
    "# y = x.reshape(4,1)\n",
    "# y.shape\n"
   ]
  },
  {
   "cell_type": "code",
   "execution_count": null,
   "metadata": {},
   "outputs": [],
   "source": []
  },
  {
   "cell_type": "code",
   "execution_count": null,
   "metadata": {},
   "outputs": [],
   "source": []
  }
 ],
 "metadata": {
  "kernelspec": {
   "display_name": "Python 3",
   "language": "python",
   "name": "python3"
  },
  "language_info": {
   "codemirror_mode": {
    "name": "ipython",
    "version": 3
   },
   "file_extension": ".py",
   "mimetype": "text/x-python",
   "name": "python",
   "nbconvert_exporter": "python",
   "pygments_lexer": "ipython3",
   "version": "3.7.1"
  }
 },
 "nbformat": 4,
 "nbformat_minor": 2
}
