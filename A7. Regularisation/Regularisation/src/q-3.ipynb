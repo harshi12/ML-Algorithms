{
 "cells": [
  {
   "cell_type": "markdown",
   "metadata": {},
   "source": [
    "### Q3. Analyse how the hyper-parameter λ plays a role in deciding between bias and variance."
   ]
  },
  {
   "cell_type": "markdown",
   "metadata": {},
   "source": [
    "When we have a lot of measurements, we can be fairly confident that least squares model          \n",
    "accurately reflects the relationships between all the features, but when we have only a few                                                   \n",
    "samples, say suppose 2, then we get a straight line between them which perfectly fits the\n",
    "the training data. Now this is one of the cases of overfitting. Now for all the test samples\n",
    "the sum of squared residuals will be very high. So here, in this case, we say that the line is \n",
    "having  a high variance. In other words, we say that the new line overfits the training \n",
    "data. The main idea behind ridge regression is to find a new line, that doesn’t fit the training\n",
    "data very well. In other words, we introduce a small amount of Bias into how the new line is "
   ]
  },
  {
   "cell_type": "code",
   "execution_count": null,
   "metadata": {},
   "outputs": [],
   "source": []
  }
 ],
 "metadata": {
  "kernelspec": {
   "display_name": "Python 3",
   "language": "python",
   "name": "python3"
  },
  "language_info": {
   "codemirror_mode": {
    "name": "ipython",
    "version": 3
   },
   "file_extension": ".py",
   "mimetype": "text/x-python",
   "name": "python",
   "nbconvert_exporter": "python",
   "pygments_lexer": "ipython3",
   "version": "3.7.1"
  }
 },
 "nbformat": 4,
 "nbformat_minor": 2
}
