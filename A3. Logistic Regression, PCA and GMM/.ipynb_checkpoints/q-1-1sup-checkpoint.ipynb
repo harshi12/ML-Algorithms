{
 "cells": [
  {
   "cell_type": "code",
   "execution_count": 49,
   "metadata": {
    "scrolled": true
   },
   "outputs": [
    {
     "name": "stdout",
     "output_type": "stream",
     "text": [
      "(125973, 30)\n",
      "(125973, 29)\n",
      "[[0.00000000e+00 2.02898551e-01 5.79725315e-09 ... 0.00000000e+00\n",
      "  0.00000000e+00 0.00000000e+00]\n",
      " [0.00000000e+00 3.47826087e-01 2.39136693e-07 ... 0.00000000e+00\n",
      "  0.00000000e+00 0.00000000e+00]\n",
      " [0.00000000e+00 4.05797101e-01 0.00000000e+00 ... 0.00000000e+00\n",
      "  1.00000000e+00 1.00000000e+00]\n",
      " ...\n",
      " [0.00000000e+00 3.47826087e-01 2.36962723e-07 ... 0.00000000e+00\n",
      "  0.00000000e+00 0.00000000e+00]\n",
      " [0.00000000e+00 1.59420290e-01 3.18848923e-08 ... 0.00000000e+00\n",
      "  1.60000000e-01 0.00000000e+00]\n",
      " [0.00000000e+00 3.47826087e-01 2.10150427e-07 ... 0.00000000e+00\n",
      "  0.00000000e+00 0.00000000e+00]]\n"
     ]
    }
   ],
   "source": [
    "import numpy as np\n",
    "import pandas as pd\n",
    "import collections\n",
    "from sklearn.preprocessing import StandardScaler\n",
    "from sklearn.preprocessing import MinMaxScaler\n",
    "\n",
    "df = pd.read_csv(\"./intrusion_detection/data.csv\")\n",
    "print(df.shape)\n",
    "df = df.sample(frac=1).reset_index(drop=True)\n",
    "df = df.drop('xAttack', axis=1)\n",
    "array = df.values\n",
    "print(array.shape)\n",
    "X = array[:,0:29] \n",
    "# Y = array[:,28] \n",
    "scaler = MinMaxScaler(feature_range=(0, 1)) \n",
    "rescaledX = scaler.fit_transform(X) \n",
    "print(rescaledX)\n",
    "\n",
    "cols = list(df)\n",
    "# for i in cols[:-1]:\n",
    "#     df[i] = (df[i] - df[i].min())/(df[i].max() - df[i].min()) \n",
    "# df    \n",
    "\n",
    "\n"
   ]
  },
  {
   "cell_type": "code",
   "execution_count": 54,
   "metadata": {
    "scrolled": true
   },
   "outputs": [
    {
     "name": "stdout",
     "output_type": "stream",
     "text": [
      "[1.18832101e+00 5.08047246e-01 1.58082019e-01 1.20314346e-01\n",
      " 7.21746179e-02 5.40903994e-02 4.62156053e-02 4.26391363e-02\n",
      " 3.10914093e-02 2.64276202e-02 1.40986586e-02 1.12847928e-02\n",
      " 7.61110575e-03 7.23410387e-03 5.30273210e-03 4.21923630e-03\n",
      " 3.80774976e-03 3.05743069e-03 2.72658316e-03 1.24815560e-03\n",
      " 7.28133309e-04 6.68532890e-04 1.34325312e-04 1.12300978e-04\n",
      " 8.10482697e-05 7.50479708e-09 9.41102123e-06 1.79594642e-05\n",
      " 1.84389422e-05]\n",
      "[0, 1, 2, 3, 4, 5, 6, 7, 8, 9, 10, 11, 12, 13, 14, 15, 16, 17, 18, 19, 20, 21, 22, 23, 24, 28, 27, 26, 25]\n",
      "[0, 1, 2, 3, 4, 5, 6, 7, 8, 9, 10, 11, 12, 13, 14, 15, 16, 17, 18, 19, 20, 21, 22, 23, 24, 28, 27]\n"
     ]
    }
   ],
   "source": [
    "import collections\n",
    "import operator\n",
    "import math\n",
    "mean_vector = np.mean(rescaledX, axis = 0)\n",
    "covariance_matrix = (rescaledX - mean_vector).T.dot((rescaledX - mean_vector)) / (rescaledX.shape[0]-1)\n",
    "# print(%covariance_matrix)\n",
    "\n",
    "eigen_values, eigen_vectors = np.linalg.eig(covariance_matrix)\n",
    "print(eigen_values)\n",
    "eigen_dictionary = {}\n",
    "for i in range(len(eigen_values)):\n",
    "    eigen_dictionary[eigen_values[i]] = i\n",
    "    \n",
    "selected_features = []\n",
    "for key in reversed(sorted(eigen_dictionary.keys())):\n",
    "    selected_features.append(eigen_dictionary[key])\n",
    "\n",
    "print(selected_features)\n",
    "size = len(selected_features)\n",
    "selected_features = selected_features[0:math.ceil(size*0.9)]\n",
    "print(selected_features)\n",
    "# sorted_eigen_values = sorted(eigen_dictionary.items(), key=operator.itemgetter(0))\n",
    "# for k in sorted_eigen_values:\n",
    "#     print(k)\n",
    "\n",
    "\n"
   ]
  },
  {
   "cell_type": "code",
   "execution_count": null,
   "metadata": {},
   "outputs": [],
   "source": []
  },
  {
   "cell_type": "code",
   "execution_count": null,
   "metadata": {},
   "outputs": [],
   "source": []
  }
 ],
 "metadata": {
  "kernelspec": {
   "display_name": "Python 3",
   "language": "python",
   "name": "python3"
  },
  "language_info": {
   "codemirror_mode": {
    "name": "ipython",
    "version": 3
   },
   "file_extension": ".py",
   "mimetype": "text/x-python",
   "name": "python",
   "nbconvert_exporter": "python",
   "pygments_lexer": "ipython3",
   "version": "3.7.1"
  }
 },
 "nbformat": 4,
 "nbformat_minor": 2
}
