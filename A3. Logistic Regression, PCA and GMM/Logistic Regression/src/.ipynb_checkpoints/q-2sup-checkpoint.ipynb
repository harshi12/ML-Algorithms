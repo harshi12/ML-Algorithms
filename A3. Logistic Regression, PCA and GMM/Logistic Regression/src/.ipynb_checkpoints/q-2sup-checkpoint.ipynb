{
 "cells": [
  {
   "cell_type": "code",
   "execution_count": 1,
   "metadata": {},
   "outputs": [],
   "source": [
    "# def dataset(df,lst_col):\n",
    "#     ds = {}\n",
    "#     for i in range(len(df)):\n",
    "#         ds[i] = list(df.iloc[i,:])\n",
    "# #         print(dataset[i])\n",
    "#     return ds\n",
    "            "
   ]
  },
  {
   "cell_type": "code",
   "execution_count": 2,
   "metadata": {},
   "outputs": [],
   "source": [
    "# def dataSet_separation(df,Class,dataset):\n",
    "#     separated_data = {}\n",
    "#     for i in range(len(dataset)):\n",
    "#         row_list = dataset[i]\n",
    "#         if row_list[-1] not in separated_data:\n",
    "#             separated_data[row_list[-1]] = []\n",
    "#         separated_data[row_list[-1]].append(row_list)\n",
    "#     return separated_data\n",
    "            "
   ]
  },
  {
   "cell_type": "code",
   "execution_count": 3,
   "metadata": {},
   "outputs": [],
   "source": [
    "# def mean(sets):\n",
    "#     return sum(sets)/(len(sets) + eps)"
   ]
  },
  {
   "cell_type": "code",
   "execution_count": 4,
   "metadata": {},
   "outputs": [],
   "source": [
    "# def standard_dev(col_list):\n",
    "#     return statistics.stdev(col_list)"
   ]
  },
  {
   "cell_type": "code",
   "execution_count": 5,
   "metadata": {},
   "outputs": [],
   "source": [
    "# def mean_std(ds):\n",
    "#     lst = []\n",
    "#     for attribute in list(zip(ds)):\n",
    "#         print(attribute)\n",
    "#         print(\"mean : \",mean(attribute))\n",
    "#         print(\" deviation : \",standard_dev(attribute))\n",
    "#         lst.append(mean(attribute), standard_dev(attribute))\n",
    "#     del lst[-1]\n",
    "#     print(lst)\n",
    "# #     return lst\n"
   ]
  },
  {
   "cell_type": "code",
   "execution_count": 6,
   "metadata": {},
   "outputs": [],
   "source": [
    "from math import exp\n",
    "def gaussian_dist(x,mean, stdev):\n",
    "    exp = math.exp(-(math.pow(x-mean,2)/(2*math.pow(stdev,2))))\n",
    "    return (1 / (math.sqrt(2*math.pi) * stdev)) * exp"
   ]
  },
  {
   "cell_type": "code",
   "execution_count": 7,
   "metadata": {},
   "outputs": [],
   "source": [
    "def find_mean_dev(df,cols):\n",
    "    mean_dev = {}\n",
    "    for col in cols:\n",
    "        if col!=\"output\":\n",
    "            mean = sum(df[col])/(len(df) + eps)\n",
    "            std_dev = df[col].std()\n",
    "            mean_dev[col] = (mean,std_dev)\n",
    "            \n",
    "    return mean_dev\n",
    "\n"
   ]
  },
  {
   "cell_type": "code",
   "execution_count": 8,
   "metadata": {},
   "outputs": [],
   "source": [
    "def numerical_prob(row,df,cols,mean_dev):\n",
    "    prob = 0\n",
    "#     print(\" lst contains : \",cols)\n",
    "    j = 0\n",
    "    for col in cols:\n",
    "        if col != \"output\":\n",
    "#             print(\" sum : \",sum(df[col]))\n",
    "#             print(\" den : \",len(df) + eps)\n",
    "#             print(\" for col \",col,\" mean is \",mean_dev[col][0],\" and stdev is \",mean_dev[col][1])\n",
    "    #         for j in range(0,row.shape[0]-1):\n",
    "            prob += log2(gaussian_dist(row[j], mean_dev[col][0], mean_dev[col][1]))\n",
    "            j += 1\n",
    "    return prob"
   ]
  },
  {
   "cell_type": "code",
   "execution_count": 9,
   "metadata": {},
   "outputs": [],
   "source": [
    "def categorical_prob(df,row,sub_df,cols,prob,total):\n",
    "    pro = 0\n",
    "    for i in range(row.shape[0]):\n",
    "        x = row[i]\n",
    "        num = len(sub_df[sub_df[cols[i]] == x])\n",
    "        den = len(sub_df)\n",
    "        p1 = num/(den+eps)\n",
    "        p2 = len(df[df[cols[i]] == x])/(len(df) + eps)\n",
    "        p3 = prob / (total + eps)\n",
    "        pro += log2((p1*p2)/p3)\n",
    "    return pro"
   ]
  },
  {
   "cell_type": "code",
   "execution_count": 11,
   "metadata": {},
   "outputs": [
    {
     "name": "stdout",
     "output_type": "stream",
     "text": [
      "ACCURACY IS :  0.8522222222222222\n",
      "0.8522222222222222\n"
     ]
    }
   ],
   "source": [
    "# Importing libraries\n",
    "import pandas as pd\n",
    "import numpy as np\n",
    "import math\n",
    "import statistics\n",
    "from sklearn import datasets\n",
    "import operator\n",
    "from sklearn.metrics import accuracy_score\n",
    "import pprint as pprint\n",
    "from numpy import log2\n",
    "from matplotlib import pyplot as plt\n",
    "get_ipython().run_line_magic('matplotlib', 'inline')\n",
    "eps = np.finfo(float).eps\n",
    "true_positive = 0\n",
    "true_negative = 0\n",
    "false_positive = 0\n",
    "false_negative = 0\n",
    "\n",
    "data1 = pd.read_csv(\"./LoanDataset/data.csv\")\n",
    "# data2 = data1.sample(frac=1).reset_index(drop=True)\n",
    "data1.columns = [\"id\",\"age\", \"year_of_experience\", \"annual_income\",\"zipcode\",\"family_size\",\"average_spending\",\"education_level\",\"mortgage_value\",\"output\",\"have_security_acc\",\"have_cd_acc\",\"use_ib\",\"use_credit_card\"]\n",
    "data = data1[[\"age\",\"year_of_experience\",\"annual_income\",\"zipcode\",\"family_size\",\"average_spending\",\"education_level\",\"mortgage_value\",\"output\",\"have_security_acc\",\"have_cd_acc\",\"use_ib\",\"use_credit_card\"]]\n",
    "train, validate = np.split(data, [int(0.8*len(data))])\n",
    "\n",
    "catagorical_train_data = train[['have_security_acc','have_cd_acc','use_ib','use_credit_card','output']] \n",
    "numerical_train_data = train[['age','year_of_experience','annual_income','zipcode','family_size','average_spending','education_level','mortgage_value','output']]\n",
    "catagorical_validate_data = validate[['have_security_acc','have_cd_acc','use_ib','use_credit_card','output']] \n",
    "numerical_validate_data = validate[['age','year_of_experience','annual_income','zipcode','family_size','average_spending','education_level','mortgage_value','output']]\n",
    "\n",
    "dataset_yes = numerical_train_data[numerical_train_data[\"output\"] == 1]\n",
    "dataset_no = numerical_train_data[numerical_train_data[\"output\"] == 0]\n",
    "dataset_cat_yes = catagorical_train_data[catagorical_train_data[\"output\"] == 1]\n",
    "dataset_cat_no = catagorical_train_data[catagorical_train_data[\"output\"] == 0]\n",
    "\n",
    "numerical_cols = list(numerical_train_data)\n",
    "catagorical_cols = list(catagorical_train_data)\n",
    "p_yes = len(dataset_yes)\n",
    "p_no = len(dataset_no)\n",
    "probability_yes = 0\n",
    "probability_no = 0\n",
    "\n",
    "my_prediction = []\n",
    "\n",
    "# calculating mean and deviation for all numerical data\n",
    "mean_dev_yes = find_mean_dev(dataset_yes,numerical_cols)\n",
    "mean_dev_no = find_mean_dev(dataset_no,numerical_cols)\n",
    "\n",
    "for index, row in validate.iterrows():\n",
    "#     print(\"row is \",row)\n",
    "    num_row = row[:9]\n",
    "    cat_row = row[9:]\n",
    "#     print(\" for row \",numerical_validate_data.loc[index])\n",
    "#     print(\"------------------------------------------\")\n",
    "#     print(\" for YES\")\n",
    "    probability_yes = numerical_prob(num_row,dataset_yes, numerical_cols,mean_dev_yes)\n",
    "#     print(\" for NO\")\n",
    "    probability_no = numerical_prob(num_row,dataset_no, numerical_cols,mean_dev_no)\n",
    "    \n",
    "#     print(\" THE PROBABILITY YES AFTER NUMERICAL ATTRIBUTES IS \",probability_yes)\n",
    "#     print(\" THE PROBABILITY NO AFTER NUMERICAL ATTRIBUTES IS \",probability_no)\n",
    "    \n",
    "#     print(\" FOR CATAGORICAL DATA-------------------------------------------------------------------------------\")\n",
    "    \n",
    "#     print(\" for YES\")\n",
    "    probability_yes += categorical_prob(catagorical_train_data,cat_row,dataset_cat_yes,list(dataset_cat_yes),p_yes,p_yes+p_no)\n",
    "#     print(\" Probability yes is : \",probability_yes)\n",
    "#     print(\" for NO\")\n",
    "    probability_no += categorical_prob(catagorical_train_data,cat_row,dataset_cat_no,list(dataset_cat_no),p_no,p_yes+p_no)\n",
    "#     print(\" Probability no is : \",probability_no)\n",
    "\n",
    "    # since we have used log, the values are coming to be negative, so the comparison will be inverted\n",
    "    if probability_yes < probability_no:\n",
    "        my_prediction.append(1)\n",
    "        if row[8] == 1:\n",
    "            true_positive += 1\n",
    "        else:\n",
    "            false_positive += 1\n",
    "#         print(\"*************************YES*****************************\")\n",
    "    else:\n",
    "        my_prediction.append(0)\n",
    "        if row[8] == 0:\n",
    "            true_negative += 1\n",
    "        else:\n",
    "            false_negative += 1\n",
    "#         print(\"*************************NO******************************\")\n",
    "\n",
    "# manual accuracy calculation\n",
    "print(\"ACCURACY IS : \",(true_positive+true_negative)/(true_positive+true_negative+false_positive+false_negative))\n",
    "\n",
    "# sklearn library function to calculate the accuracy\n",
    "print(accuracy_score(my_prediction, validate['output']))"
   ]
  },
  {
   "cell_type": "code",
   "execution_count": null,
   "metadata": {},
   "outputs": [],
   "source": []
  },
  {
   "cell_type": "code",
   "execution_count": null,
   "metadata": {},
   "outputs": [],
   "source": []
  },
  {
   "cell_type": "code",
   "execution_count": null,
   "metadata": {},
   "outputs": [],
   "source": []
  }
 ],
 "metadata": {
  "kernelspec": {
   "display_name": "Python 3",
   "language": "python",
   "name": "python3"
  },
  "language_info": {
   "codemirror_mode": {
    "name": "ipython",
    "version": 3
   },
   "file_extension": ".py",
   "mimetype": "text/x-python",
   "name": "python",
   "nbconvert_exporter": "python",
   "pygments_lexer": "ipython3",
   "version": "3.7.1"
  }
 },
 "nbformat": 4,
 "nbformat_minor": 2
}
