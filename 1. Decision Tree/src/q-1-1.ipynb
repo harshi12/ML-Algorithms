{
 "cells": [
  {
   "cell_type": "markdown",
   "metadata": {},
   "source": [
    "# Part-1"
   ]
  },
  {
   "cell_type": "markdown",
   "metadata": {},
   "source": [
    "### Train decision tree only on categorical data. Report precision, recall, f1 score and accuracy.\n"
   ]
  },
  {
   "cell_type": "code",
   "execution_count": 1,
   "metadata": {},
   "outputs": [],
   "source": [
    "import numpy as np\n",
    "import pandas as pd\n",
    "import pprint\n",
    "eps = np.finfo(float).eps\n",
    "from numpy import log2 as log\n",
    "targetattr = \"left\"\n",
    "data = pd.read_csv(\"./../input_data/train.csv\")\n",
    "dataSet = pd.DataFrame(data,columns=['Work_accident', 'promotion_last_5years', 'sales','salary','left'])\n",
    "# reading csv file  \n",
    "trainingSet , validationSet = np.split(dataSet,[int(0.8*len(dataSet))])\n",
    "# print trainingSet"
   ]
  },
  {
   "cell_type": "markdown",
   "metadata": {},
   "source": [
    "#### maxInfoGainNode function decides which attribute is selected as node"
   ]
  },
  {
   "cell_type": "code",
   "execution_count": 2,
   "metadata": {},
   "outputs": [],
   "source": [
    "def maxInfoGainNode(df):\n",
    "    attributes = list(df.loc[:, df.columns != targetattr])\n",
    "    IG = []\n",
    "    entropybefore = entropy(df)\n",
    "    for attr in attributes:\n",
    "        IG.append(entropybefore - I(df,attr))\n",
    "    maxGain = max(IG)\n",
    "    if maxGain == 0.0:\n",
    "        return None \n",
    "    else:\n",
    "        return attributes[IG.index(maxGain)]\n"
   ]
  },
  {
   "cell_type": "markdown",
   "metadata": {},
   "source": [
    "#### entropy function"
   ]
  },
  {
   "cell_type": "code",
   "execution_count": 3,
   "metadata": {},
   "outputs": [],
   "source": [
    "def entropy(df):\n",
    "    entropy = 0\n",
    "    uniqueSet = df[targetattr].unique()\n",
    "    for elem in uniqueSet:\n",
    "        fraction = df[targetattr].value_counts()[elem]/float(len(df[targetattr]))\n",
    "        if fraction == 0 or fraction == 1:\n",
    "            entropy += 0.0\n",
    "        else:\n",
    "            entropy += -fraction*np.log2(fraction)\n",
    "    return entropy"
   ]
  },
  {
   "cell_type": "markdown",
   "metadata": {},
   "source": [
    "#### Impurity function to calculate impurity for weighted entropy"
   ]
  },
  {
   "cell_type": "code",
   "execution_count": 4,
   "metadata": {},
   "outputs": [],
   "source": [
    "def I(df , attribute):\n",
    "    target_variables = df[targetattr].unique()  #This gives all 'Yes' and 'No'\n",
    "    variables = df[attribute].unique()    #This gives different features in that attribute (like 'Hot','Cold' in Temperature)\n",
    "    den = len(df[attribute])\n",
    "    impurity = 0\n",
    "    for variable in variables:\n",
    "        num = len(df[attribute][df[attribute] == variable])\n",
    "        fraction = num/(den + eps)\n",
    "        if num == 0:\n",
    "            impurity += 0.0\n",
    "        else:\n",
    "            impurity += fraction*entropy(df[df[attribute] == variable]) \n",
    "    return impurity"
   ]
  },
  {
   "cell_type": "markdown",
   "metadata": {},
   "source": [
    "#### get_subtable to filter data frame"
   ]
  },
  {
   "cell_type": "code",
   "execution_count": 5,
   "metadata": {},
   "outputs": [],
   "source": [
    "def get_subtable(df, node,value):\n",
    "    return df[df[node] == value].reset_index(drop=True)\n"
   ]
  },
  {
   "cell_type": "markdown",
   "metadata": {},
   "source": [
    "#### Tree Builder Function"
   ]
  },
  {
   "cell_type": "code",
   "execution_count": 6,
   "metadata": {},
   "outputs": [],
   "source": [
    "def treeBuilder(df, tree=None):     \n",
    "    #Here we build our decision tree   \n",
    "    #Get attribute with maximum information gain\n",
    "    node = maxInfoGainNode(df)\n",
    "    \n",
    "    if node == None:\n",
    "        clValue,counts = np.unique(df[targetattr],return_counts=True)  \n",
    "        return clValue[np.argmax(counts)]\n",
    "    \n",
    "    #Get distinct value of that attribute e.g Salary is node and Low,Med and High are values\n",
    "    attValue = np.unique(df[node])\n",
    "    \n",
    "    #Create an empty dictionary to create tree    \n",
    "    if tree is None:                    \n",
    "        tree={}\n",
    "        tree[node] = {}\n",
    "    \n",
    "   #We make loop to construct a tree by calling this function recursively. \n",
    "    #In this we check if the subset is pure and stops if it is pure. \n",
    "    \n",
    "    for value in attValue:\n",
    "        \n",
    "        subtable = get_subtable(df,node,value)\n",
    "        clValue,counts = np.unique(subtable[targetattr],return_counts=True)                        \n",
    "        \n",
    "        if len(counts)==1:#Checking purity of subset\n",
    "            tree[node][value] = clValue[0]\n",
    "        else:        \n",
    "            tree[node][value] = treeBuilder(subtable) #Calling the function recursively \n",
    "                   \n",
    "    return tree\n"
   ]
  },
  {
   "cell_type": "markdown",
   "metadata": {},
   "source": [
    "#### Run the code here"
   ]
  },
  {
   "cell_type": "code",
   "execution_count": 7,
   "metadata": {
    "scrolled": false
   },
   "outputs": [
    {
     "name": "stdout",
     "output_type": "stream",
     "text": [
      "{'Work_accident': {0: {'salary': {'high': {'sales': {'IT': 0,\n",
      "                                                     'RandD': 0,\n",
      "                                                     'accounting': {'promotion_last_5years': {0: 0,\n",
      "                                                                                              1: 0}},\n",
      "                                                     'hr': {'promotion_last_5years': {0: 0,\n",
      "                                                                                      1: 0}},\n",
      "                                                     'management': {'promotion_last_5years': {0: 0,\n",
      "                                                                                              1: 0}},\n",
      "                                                     'marketing': 0,\n",
      "                                                     'product_mng': 0,\n",
      "                                                     'sales': {'promotion_last_5years': {0: 0,\n",
      "                                                                                         1: 0}},\n",
      "                                                     'support': 0,\n",
      "                                                     'technical': 0}},\n",
      "                                  'low': {'sales': {'IT': {'promotion_last_5years': {0: 0,\n",
      "                                                                                     1: 1}},\n",
      "                                                    'RandD': {'promotion_last_5years': {0: 0,\n",
      "                                                                                        1: 0}},\n",
      "                                                    'accounting': {'promotion_last_5years': {0: 0,\n",
      "                                                                                             1: 0}},\n",
      "                                                    'hr': {'promotion_last_5years': {0: 0,\n",
      "                                                                                     1: 0}},\n",
      "                                                    'management': 0,\n",
      "                                                    'marketing': {'promotion_last_5years': {0: 0,\n",
      "                                                                                            1: 0}},\n",
      "                                                    'product_mng': 0,\n",
      "                                                    'sales': {'promotion_last_5years': {0: 0,\n",
      "                                                                                        1: 0}},\n",
      "                                                    'support': {'promotion_last_5years': {0: 0,\n",
      "                                                                                          1: 0}},\n",
      "                                                    'technical': {'promotion_last_5years': {0: 0,\n",
      "                                                                                            1: 0}}}},\n",
      "                                  'medium': {'sales': {'IT': {'promotion_last_5years': {0: 0,\n",
      "                                                                                        1: 1}},\n",
      "                                                       'RandD': {'promotion_last_5years': {0: 0,\n",
      "                                                                                           1: 0}},\n",
      "                                                       'accounting': {'promotion_last_5years': {0: 0,\n",
      "                                                                                                1: 0}},\n",
      "                                                       'hr': {'promotion_last_5years': {0: 0,\n",
      "                                                                                        1: 0}},\n",
      "                                                       'management': {'promotion_last_5years': {0: 0,\n",
      "                                                                                                1: 0}},\n",
      "                                                       'marketing': {'promotion_last_5years': {0: 0,\n",
      "                                                                                               1: 0}},\n",
      "                                                       'product_mng': 0,\n",
      "                                                       'sales': {'promotion_last_5years': {0: 0,\n",
      "                                                                                           1: 0}},\n",
      "                                                       'support': {'promotion_last_5years': {0: 0,\n",
      "                                                                                             1: 0}},\n",
      "                                                       'technical': {'promotion_last_5years': {0: 0,\n",
      "                                                                                               1: 0}}}}}},\n",
      "                   1: {'salary': {'high': 0,\n",
      "                                  'low': {'sales': {'IT': 0,\n",
      "                                                    'RandD': {'promotion_last_5years': {0: 0,\n",
      "                                                                                        1: 0}},\n",
      "                                                    'accounting': 0,\n",
      "                                                    'hr': 0,\n",
      "                                                    'management': {'promotion_last_5years': {0: 0,\n",
      "                                                                                             1: 0}},\n",
      "                                                    'marketing': {'promotion_last_5years': {0: 0,\n",
      "                                                                                            1: 0}},\n",
      "                                                    'product_mng': 0,\n",
      "                                                    'sales': {'promotion_last_5years': {0: 0,\n",
      "                                                                                        1: 1}},\n",
      "                                                    'support': 0,\n",
      "                                                    'technical': {'promotion_last_5years': {0: 0,\n",
      "                                                                                            1: 0}}}},\n",
      "                                  'medium': {'sales': {'IT': 0,\n",
      "                                                       'RandD': {'promotion_last_5years': {0: 0,\n",
      "                                                                                           1: 0}},\n",
      "                                                       'accounting': 0,\n",
      "                                                       'hr': {'promotion_last_5years': {0: 0,\n",
      "                                                                                        1: 0}},\n",
      "                                                       'management': {'promotion_last_5years': {0: 0,\n",
      "                                                                                                1: 0}},\n",
      "                                                       'marketing': {'promotion_last_5years': {0: 0,\n",
      "                                                                                               1: 0}},\n",
      "                                                       'product_mng': 0,\n",
      "                                                       'sales': {'promotion_last_5years': {0: 0,\n",
      "                                                                                           1: 0}},\n",
      "                                                       'support': {'promotion_last_5years': {0: 0,\n",
      "                                                                                             1: 0}},\n",
      "                                                       'technical': {'promotion_last_5years': {0: 0,\n",
      "                                                                                               1: 0}}}}}}}}\n"
     ]
    }
   ],
   "source": [
    "tree = treeBuilder(trainingSet)\n",
    "pprint.pprint(tree)\n"
   ]
  },
  {
   "cell_type": "markdown",
   "metadata": {},
   "source": [
    "#### predict function predicts the value of class attribute for a given row of input and tree"
   ]
  },
  {
   "cell_type": "code",
   "execution_count": 8,
   "metadata": {},
   "outputs": [],
   "source": [
    "def predict(tree , row):\n",
    "    #This function is used to predict for any input variable \n",
    "    \n",
    "    #Recursively we go through the tree that we built earlier\n",
    "    prediction = 0\n",
    "    for nodes in tree.keys():        \n",
    "        \n",
    "        value = row[nodes]\n",
    "        tree = tree[nodes][value]\n",
    "            \n",
    "        if type(tree) is dict:\n",
    "            prediction = predict(tree , row)\n",
    "        else:\n",
    "            prediction = tree\n",
    "            break;                            \n",
    "        \n",
    "    return prediction"
   ]
  },
  {
   "cell_type": "markdown",
   "metadata": {},
   "source": [
    "#### validate function validates the given Data Frame"
   ]
  },
  {
   "cell_type": "code",
   "execution_count": 9,
   "metadata": {},
   "outputs": [],
   "source": [
    "def validate(tree, df):\n",
    "    true_positive = 0\n",
    "    true_negative = 0 \n",
    "    false_negative = 0\n",
    "    false_positive = 0\n",
    "    result = []\n",
    "    for index, row in df.iterrows():\n",
    "        value = predict(tree, row)\n",
    "        result.append(value)\n",
    "        if value == row[targetattr]:\n",
    "            if value == 1:\n",
    "                true_positive += 1\n",
    "            else:\n",
    "                true_negative += 1\n",
    "        else:\n",
    "            if value == 1:\n",
    "                false_positive += 1\n",
    "            else:\n",
    "                false_negative += 1\n",
    "    return true_positive, true_negative , false_negative, false_positive, result"
   ]
  },
  {
   "cell_type": "code",
   "execution_count": 10,
   "metadata": {},
   "outputs": [],
   "source": [
    "def accuracy(true_positive , true_negative , false_negative, false_positive):\n",
    "    return ((true_positive + true_negative)*100)/(true_positive + true_negative + false_positive + false_negative + eps)"
   ]
  },
  {
   "cell_type": "code",
   "execution_count": 11,
   "metadata": {},
   "outputs": [],
   "source": [
    "def recall(true_positive , false_negative):\n",
    "    return true_positive*100/(true_positive +  false_negative+ eps)"
   ]
  },
  {
   "cell_type": "code",
   "execution_count": 12,
   "metadata": {},
   "outputs": [],
   "source": [
    "def precision(true_positive , false_positive):\n",
    "    return true_positive*100/(true_positive +  false_positive + eps)"
   ]
  },
  {
   "cell_type": "code",
   "execution_count": 13,
   "metadata": {},
   "outputs": [],
   "source": [
    "def f1score(recall , prescision):\n",
    "    return 2/(1/(recall)+1/(prescision))"
   ]
  },
  {
   "cell_type": "code",
   "execution_count": 14,
   "metadata": {},
   "outputs": [
    {
     "name": "stdout",
     "output_type": "stream",
     "text": [
      "ACCURACY%:  75.80071174377224\n",
      "RECALL:  0.1834862385321101\n",
      "PRECISION:  99.99999999999997\n",
      "F1-score:  0.3663003663003664\n",
      "[0, 0, 0, 0, 0, 0, 0, 0, 0, 0, 0, 0, 0, 0, 0, 0, 0, 0, 0, 0, 0, 0, 0, 0, 0, 0, 0, 0, 0, 0, 0, 0, 0, 0, 0, 0, 0, 0, 0, 0, 0, 0, 0, 0, 0, 0, 0, 0, 0, 0, 0, 0, 0, 0, 0, 0, 0, 0, 0, 0, 0, 0, 0, 0, 0, 0, 0, 0, 0, 0, 0, 0, 0, 0, 0, 0, 0, 0, 0, 0, 0, 0, 0, 0, 0, 0, 0, 0, 0, 0, 0, 0, 0, 0, 0, 0, 0, 0, 0, 0, 0, 0, 0, 0, 0, 0, 0, 0, 0, 0, 0, 0, 0, 0, 0, 0, 0, 0, 0, 0, 0, 0, 0, 0, 0, 0, 0, 0, 0, 0, 0, 0, 0, 0, 0, 0, 0, 0, 0, 0, 0, 0, 0, 0, 0, 0, 0, 0, 0, 0, 0, 0, 0, 0, 0, 0, 0, 0, 0, 0, 0, 0, 0, 0, 0, 0, 0, 0, 0, 0, 0, 0, 0, 0, 0, 0, 0, 0, 0, 0, 0, 0, 0, 0, 0, 0, 0, 0, 0, 0, 0, 0, 0, 0, 0, 0, 0, 0, 0, 0, 0, 0, 0, 0, 0, 0, 0, 0, 0, 0, 0, 0, 0, 0, 0, 0, 0, 0, 0, 0, 0, 0, 0, 0, 0, 0, 0, 0, 0, 0, 0, 0, 0, 0, 0, 0, 0, 0, 0, 0, 0, 0, 0, 0, 0, 0, 0, 0, 0, 0, 0, 0, 0, 0, 0, 0, 0, 0, 0, 0, 0, 0, 0, 0, 0, 0, 0, 0, 0, 0, 0, 0, 0, 0, 0, 0, 0, 0, 0, 0, 0, 0, 0, 0, 0, 0, 0, 0, 0, 0, 0, 0, 0, 0, 0, 0, 0, 0, 0, 0, 0, 0, 0, 0, 0, 0, 0, 0, 0, 0, 0, 0, 0, 0, 0, 0, 0, 0, 0, 0, 0, 0, 0, 0, 0, 0, 0, 0, 0, 0, 0, 0, 0, 0, 0, 0, 0, 0, 0, 0, 0, 0, 0, 0, 0, 0, 0, 0, 0, 0, 0, 0, 0, 0, 0, 0, 0, 0, 0, 0, 0, 0, 0, 0, 0, 0, 0, 0, 0, 0, 0, 0, 0, 0, 0, 0, 0, 0, 0, 0, 0, 0, 0, 0, 0, 0, 0, 0, 0, 0, 0, 0, 0, 0, 0, 0, 0, 0, 0, 0, 0, 0, 0, 0, 0, 0, 0, 0, 0, 0, 0, 0, 0, 0, 0, 0, 0, 0, 0, 0, 0, 0, 0, 0, 0, 0, 0, 0, 0, 0, 0, 0, 0, 0, 0, 0, 0, 0, 0, 0, 0, 0, 0, 0, 0, 0, 0, 0, 0, 0, 0, 0, 0, 0, 0, 0, 0, 0, 0, 0, 0, 0, 0, 0, 0, 0, 0, 0, 0, 0, 0, 0, 0, 0, 0, 0, 0, 0, 0, 0, 0, 0, 0, 0, 0, 0, 0, 0, 0, 0, 0, 0, 0, 0, 0, 0, 0, 0, 0, 0, 0, 0, 0, 0, 0, 0, 0, 0, 0, 0, 0, 0, 0, 0, 0, 0, 0, 0, 0, 0, 0, 0, 0, 0, 0, 0, 0, 0, 0, 0, 0, 0, 0, 0, 0, 0, 0, 0, 0, 0, 0, 0, 0, 0, 0, 0, 0, 0, 0, 0, 0, 0, 0, 0, 0, 0, 0, 0, 0, 0, 0, 0, 0, 0, 0, 0, 0, 0, 0, 0, 0, 0, 0, 0, 0, 0, 0, 0, 0, 0, 0, 0, 0, 0, 0, 0, 0, 0, 0, 0, 0, 0, 0, 0, 0, 0, 0, 0, 0, 0, 0, 0, 0, 0, 0, 0, 0, 0, 0, 0, 0, 0, 0, 0, 0, 0, 0, 0, 0, 0, 0, 0, 0, 0, 0, 0, 0, 0, 0, 0, 0, 0, 0, 0, 0, 0, 0, 0, 0, 0, 0, 0, 0, 0, 0, 0, 0, 0, 0, 0, 0, 0, 0, 0, 0, 0, 0, 0, 0, 0, 0, 0, 0, 0, 0, 0, 0, 0, 0, 0, 0, 0, 0, 0, 0, 0, 0, 0, 0, 0, 0, 0, 0, 0, 0, 0, 0, 0, 0, 0, 0, 0, 0, 0, 0, 0, 0, 0, 0, 0, 0, 0, 0, 0, 0, 0, 0, 0, 0, 0, 0, 0, 0, 0, 0, 0, 0, 0, 0, 0, 0, 0, 0, 0, 0, 0, 0, 0, 0, 0, 0, 0, 0, 0, 0, 0, 0, 0, 0, 0, 0, 0, 0, 0, 0, 0, 0, 0, 0, 0, 0, 0, 0, 0, 0, 0, 0, 0, 0, 0, 0, 0, 0, 0, 0, 0, 0, 0, 0, 0, 0, 0, 0, 0, 0, 0, 0, 0, 0, 0, 0, 0, 0, 0, 0, 0, 0, 0, 0, 0, 0, 0, 0, 0, 0, 0, 0, 0, 0, 0, 0, 0, 0, 0, 0, 0, 0, 0, 0, 0, 0, 0, 0, 0, 0, 0, 0, 0, 0, 0, 0, 0, 0, 0, 0, 0, 0, 0, 0, 0, 0, 0, 0, 0, 0, 0, 0, 0, 0, 0, 0, 0, 0, 0, 0, 0, 0, 0, 0, 0, 0, 0, 0, 0, 0, 0, 0, 0, 0, 0, 0, 0, 0, 0, 0, 0, 0, 0, 0, 0, 0, 0, 0, 0, 0, 0, 0, 0, 0, 0, 0, 0, 0, 0, 0, 0, 0, 0, 0, 0, 0, 0, 0, 0, 0, 0, 0, 0, 0, 0, 0, 0, 0, 0, 0, 0, 0, 0, 0, 0, 0, 0, 0, 0, 0, 0, 0, 0, 0, 0, 0, 0, 0, 0, 0, 0, 0, 0, 0, 0, 0, 0, 0, 0, 0, 0, 0, 0, 0, 0, 0, 0, 0, 0, 0, 0, 0, 0, 0, 0, 0, 0, 0, 0, 0, 0, 0, 0, 0, 0, 0, 0, 0, 0, 0, 0, 0, 0, 0, 0, 0, 0, 0, 0, 0, 0, 0, 0, 0, 0, 0, 0, 0, 0, 0, 0, 0, 0, 0, 0, 0, 0, 0, 0, 0, 0, 0, 0, 0, 0, 0, 0, 0, 0, 0, 0, 0, 0, 0, 0, 0, 0, 0, 0, 0, 0, 0, 0, 0, 0, 0, 0, 0, 0, 0, 0, 0, 0, 0, 0, 0, 0, 0, 0, 0, 0, 0, 0, 0, 0, 0, 0, 0, 0, 0, 0, 0, 0, 0, 0, 0, 0, 0, 0, 0, 0, 0, 0, 0, 0, 0, 0, 0, 0, 0, 0, 0, 0, 0, 0, 0, 0, 0, 0, 0, 0, 0, 0, 0, 0, 0, 0, 0, 0, 0, 0, 0, 0, 0, 0, 0, 0, 0, 0, 0, 0, 0, 0, 0, 0, 0, 0, 0, 0, 0, 0, 0, 0, 0, 0, 0, 0, 0, 0, 0, 0, 0, 0, 0, 0, 0, 0, 0, 0, 0, 0, 0, 0, 0, 0, 0, 0, 0, 0, 0, 0, 0, 0, 0, 0, 0, 0, 0, 0, 0, 0, 0, 0, 0, 0, 0, 0, 0, 0, 0, 0, 0, 0, 0, 0, 0, 0, 0, 0, 0, 0, 0, 0, 0, 0, 0, 0, 0, 0, 0, 0, 0, 0, 0, 0, 0, 0, 0, 0, 0, 0, 0, 0, 0, 0, 0, 0, 0, 0, 0, 0, 0, 0, 0, 0, 0, 0, 0, 0, 0, 0, 0, 0, 0, 0, 0, 0, 0, 0, 0, 0, 0, 0, 0, 0, 0, 0, 0, 0, 0, 0, 0, 0, 0, 0, 0, 0, 0, 0, 0, 0, 0, 0, 0, 0, 0, 0, 0, 0, 0, 0, 0, 0, 0, 0, 0, 0, 0, 0, 0, 0, 0, 0, 0, 0, 0, 0, 0, 0, 0, 0, 0, 0, 0, 0, 0, 0, 0, 0, 0, 0, 0, 0, 0, 0, 0, 0, 0, 0, 0, 0, 0, 0, 0, 0, 0, 0, 0, 0, 0, 0, 0, 0, 0, 0, 0, 0, 0, 0, 0, 0, 0, 0, 0, 0, 0, 0, 0, 0, 0, 0, 0, 0, 0, 0, 0, 0, 0, 0, 0, 0, 0, 0, 0, 0, 0, 0, 0, 0, 0, 0, 0, 0, 0, 0, 0, 0, 0, 0, 0, 0, 0, 0, 0, 0, 0, 0, 0, 0, 0, 0, 0, 0, 0, 0, 0, 0, 0, 0, 0, 0, 0, 0, 0, 0, 0, 0, 0, 0, 0, 0, 0, 0, 0, 0, 0, 0, 0, 0, 0, 0, 0, 0, 0, 0, 0, 0, 0, 0, 0, 0, 0, 0, 0, 0, 0, 0, 0, 0, 0, 0, 0, 0, 0, 0, 0, 0, 0, 0, 0, 0, 0, 0, 0, 0, 0, 0, 0, 0, 0, 0, 0, 0, 0, 0, 0, 0, 0, 0, 0, 0, 0, 0, 0, 0, 0, 0, 0, 0, 0, 0, 0, 0, 0, 0, 0, 0, 0, 0, 0, 0, 0, 0, 0, 0, 0, 0, 0, 0, 0, 0, 0, 0, 0, 0, 0, 0, 0, 0, 0, 0, 0, 0, 0, 0, 0, 0, 0, 0, 0, 0, 0, 0, 0, 0, 0, 0, 0, 0, 0, 0, 0, 0, 0, 0, 0, 0, 0, 0, 0, 0, 0, 0, 0, 0, 0, 0, 0, 0, 0, 0, 0, 0, 0, 0, 0, 0, 0, 0, 0, 0, 0, 0, 0, 0, 0, 0, 0, 0, 0, 0, 0, 0, 0, 0, 0, 0, 0, 0, 0, 0, 0, 0, 0, 0, 0, 0, 0, 0, 0, 0, 0, 0, 0, 0, 0, 0, 0, 0, 0, 0, 0, 0, 0, 0, 0, 0, 0, 0, 0, 0, 0, 0, 0, 0, 0, 0, 0, 0, 0, 0, 0, 0, 0, 0, 0, 0, 0, 0, 0, 0, 0, 0, 0, 0, 0, 0, 0, 0, 0, 0, 0, 0, 0, 0, 0, 0, 0, 0, 0, 0, 0, 0, 0, 0, 0, 0, 0, 0, 0, 0, 0, 0, 0, 0, 0, 0, 0, 0, 0, 0, 0, 0, 0, 0, 0, 0, 0, 0, 0, 0, 0, 0, 0, 0, 0, 0, 0, 0, 0, 0, 0, 0, 0, 0, 0, 0, 0, 0, 0, 0, 0, 0, 0, 0, 0, 0, 0, 0, 0, 0, 0, 0, 0, 0, 0, 0, 0, 0, 0, 0, 0, 0, 0, 0, 0, 0, 0, 0, 0, 0, 0, 0, 0, 0, 0, 0, 0, 0, 0, 0, 0, 0, 0, 0, 0, 0, 0, 0, 0, 0, 0, 0, 0, 0, 0, 0, 0, 0, 0, 0, 0, 0, 0, 0, 0, 0, 0, 0, 0, 0, 0, 0, 0, 0, 0, 0, 0, 0, 0, 0, 0, 0, 0, 0, 0, 0, 0, 0, 0, 0, 0, 0, 0, 0, 0, 0, 0, 0, 0, 0, 0, 0, 0, 0, 0, 0, 0, 0, 0, 0, 0, 0, 0, 0, 0, 0, 0, 0, 0, 0, 0, 0, 0, 0, 0, 0, 0, 0, 0, 0, 0, 0, 0, 0, 0, 0, 0, 0, 0, 0, 0, 0, 0, 0, 0, 0, 0, 0, 0, 0, 0, 0, 0, 0, 0, 0, 0, 0, 0, 0, 0, 0, 0, 0, 0, 0, 0, 0, 0, 0, 0, 0, 0, 0, 0, 0, 0, 0, 0, 0, 0, 0, 0, 0, 0, 0, 0, 0, 0, 0, 0, 0, 0, 0, 0, 0, 0, 0, 0, 0, 0, 0, 0, 0, 0, 0, 0, 0, 0, 0, 0, 0, 0, 0, 0, 0, 0, 0, 0, 0, 0, 0, 0, 0, 0, 0, 1, 0, 0, 0, 0, 0, 0, 0, 0, 0, 0, 0, 0, 0, 0, 0, 0, 0, 0, 0, 0, 0, 0, 0, 0, 0, 0, 0, 0, 0, 0, 0, 0, 0, 0, 0, 0, 0, 0, 0, 0, 0, 0, 0, 0, 0, 0, 0, 0, 0, 0, 0, 0, 0, 0, 0, 0, 0, 0, 0, 0, 0, 0, 0, 0, 0, 0, 0, 0, 0, 0, 0, 0, 0, 0, 0, 0, 0, 0, 0, 0, 0, 0, 0, 0, 0, 0, 0, 0, 0, 0, 0, 0, 0, 0, 0, 0, 0, 0, 0, 0, 0, 0, 0, 0, 0, 0, 0, 0, 0, 0, 0, 0, 0, 0, 0, 0, 0, 0, 0, 0, 0, 0, 0, 0, 0, 0, 0, 0, 0, 0, 0, 0, 0, 0, 0, 0, 0, 0, 0, 0, 0, 0, 0, 0, 0, 0, 0, 0, 0, 0, 0, 0, 0, 0, 0, 0, 0, 0, 0, 0, 0, 0, 0, 0, 0, 0, 0, 0, 0, 0, 0, 0, 0, 0, 0, 0, 0, 0, 0, 0, 0, 0, 0, 0, 0, 0, 0, 0, 0, 0, 0, 0, 0, 0, 0, 0, 0, 0, 0, 0, 0, 0, 0, 0, 0, 0, 0, 0, 0, 0, 0, 0, 0, 0, 0, 0, 0, 0, 0, 0, 0, 0, 0, 0, 0, 0, 0, 0, 0, 0, 0, 0, 0, 0, 0, 0, 0, 0, 0, 0, 0, 0, 0, 0, 0, 0, 0, 0, 0, 0, 0, 0, 0, 0, 0, 0, 0, 0, 0, 0, 0, 0, 0, 0, 0, 0, 0, 0, 0, 0, 0, 0, 0, 0, 0, 0, 0, 0, 0, 0, 0, 0, 0, 0, 0, 0, 0, 0, 0, 0, 0, 0, 0, 0, 0, 0, 0, 0, 0, 0, 0, 0, 0, 0, 0, 0, 0, 0, 0, 0, 0, 0, 0, 0, 0, 0, 0, 0, 0, 0, 0, 0, 0, 0, 0, 0, 0, 0, 0, 0, 0, 0, 0, 0, 0, 0, 0, 0, 0, 0, 0, 0, 0, 0, 0, 0, 0, 0, 0, 0, 0, 0, 0, 0, 0]\n"
     ]
    }
   ],
   "source": [
    "def RESULT(tree, validationSet):\n",
    "    true_positive , true_negative , false_negative, false_positive, result = validate(tree , validationSet)\n",
    "    acc = accuracy(true_positive , true_negative , false_negative, false_positive)\n",
    "    rec = recall(true_positive , false_negative)\n",
    "    pre = precision(true_positive , false_positive)\n",
    "    f1 = f1score(rec, pre)\n",
    "\n",
    "    print(\"ACCURACY%: \", acc)\n",
    "    print(\"RECALL: \", rec)\n",
    "    print(\"PRECISION: \", pre)\n",
    "    print(\"F1-score: \", f1)\n",
    "    print(result)\n",
    "    \n",
    "RESULT(tree , validationSet)"
   ]
  },
  {
   "cell_type": "markdown",
   "metadata": {},
   "source": [
    "###### TESTING function resturns list of output\n"
   ]
  },
  {
   "cell_type": "code",
   "execution_count": 17,
   "metadata": {},
   "outputs": [],
   "source": [
    "def TESTING(tree, df):\n",
    "    result = []\n",
    "    for index, row in df.iterrows():\n",
    "        value = predict(tree, row)\n",
    "        result.append(value)\n",
    "    return result"
   ]
  },
  {
   "cell_type": "markdown",
   "metadata": {},
   "source": [
    "### TEST YOUR DATASET HERE...."
   ]
  },
  {
   "cell_type": "code",
   "execution_count": 28,
   "metadata": {},
   "outputs": [
    {
     "name": "stdout",
     "output_type": "stream",
     "text": [
      "[0, 0]\n",
      "   satisfaction_level  last_evaluation  number_project  average_montly_hours  \\\n",
      "0                0.69             0.69               3                   236   \n",
      "1                0.36             0.54               2                   153   \n",
      "\n",
      "   time_spend_company  Work_accident  promotion_last_5years        sales  \\\n",
      "0                   4              0                      0  product_mng   \n",
      "1                   3              1                      0   accounting   \n",
      "\n",
      "   salary  left  \n",
      "0  medium     0  \n",
      "1  medium     0  \n"
     ]
    }
   ],
   "source": [
    "testingData = pd.read_csv(\"./../input_data/sample_test.csv\")\n",
    "res = TESTING(tree, testingData)\n",
    "testingData[targetattr] = res\n",
    "testingData.to_csv(\"./../output_data/q-1-1_output.csv\",index = False)\n",
    "print (res)\n",
    "print(testingData)\n"
   ]
  },
  {
   "cell_type": "code",
   "execution_count": null,
   "metadata": {},
   "outputs": [],
   "source": []
  }
 ],
 "metadata": {
  "kernelspec": {
   "display_name": "Python 3",
   "language": "python",
   "name": "python3"
  },
  "language_info": {
   "codemirror_mode": {
    "name": "ipython",
    "version": 3
   },
   "file_extension": ".py",
   "mimetype": "text/x-python",
   "name": "python",
   "nbconvert_exporter": "python",
   "pygments_lexer": "ipython3",
   "version": "3.7.1"
  }
 },
 "nbformat": 4,
 "nbformat_minor": 2
}
