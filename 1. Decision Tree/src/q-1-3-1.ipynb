{
 "cells": [
  {
   "cell_type": "markdown",
   "metadata": {},
   "source": [
    "# Part-3 section-1"
   ]
  },
  {
   "cell_type": "markdown",
   "metadata": {},
   "source": [
    "### Contrast the effectiveness of Misclassification rate, Gini, En- tropy as impurity measures in terms of precision, recall and accuracy.\n"
   ]
  },
  {
   "cell_type": "code",
   "execution_count": 1,
   "metadata": {},
   "outputs": [],
   "source": [
    "import numpy as np\n",
    "import pandas as pd\n",
    "import pprint\n",
    "import sys\n",
    "\n",
    "eps = np.finfo(float).eps\n",
    "true_positive = 0\n",
    "true_negative = 0\n",
    "false_positive = 0\n",
    "false_negative = 0\n",
    "from numpy import log2 as log\n",
    "targetattr = \"left\"\n",
    "dataSet = pd.read_csv(\"./../input_data/train.csv\")\n",
    "numerical = ['satisfaction_level' , 'last_evaluation' , 'number_project' , 'average_montly_hours' , 'time_spend_company']\n",
    "catagorical = ['Work_accident' , 'promotion_last_5years' , 'sales' , 'salary']\n",
    "trainingSet , validationSet = np.split(dataSet,[int(0.8*len(dataSet))])"
   ]
  },
  {
   "cell_type": "markdown",
   "metadata": {},
   "source": [
    "#### maxInfoGainNodeSplit function decides which attribute is selected as node and give the binary splite point in case of numerical attribute\n",
    "\n"
   ]
  },
  {
   "cell_type": "code",
   "execution_count": 2,
   "metadata": {},
   "outputs": [],
   "source": [
    "def maxInfoGainNodeSplit(df):\n",
    "    attributes = list(df)\n",
    "    maxGain = 0.0\n",
    "    gain = 0.0\n",
    "    split = 0\n",
    "    temp = 0.0\n",
    "    entropybefore = entropy(df)\n",
    "    for attr in attributes:\n",
    "        if attr != targetattr:\n",
    "            if attr in catagorical:\n",
    "                gain = entropybefore - I(df,attr)\n",
    "                if maxGain < gain:\n",
    "                    maxGain = gain\n",
    "                    node = attr\n",
    "                    split = 0\n",
    "            else:\n",
    "                temp, ImpurityNum = InumMin(df,attr)\n",
    "                gain = entropybefore - ImpurityNum\n",
    "                if maxGain < gain:\n",
    "                    maxGain = gain\n",
    "                    node = attr\n",
    "                    split = temp\n",
    "    if maxGain == 0.0:\n",
    "        return None , split\n",
    "    else:\n",
    "        return node , split\n"
   ]
  },
  {
   "cell_type": "markdown",
   "metadata": {},
   "source": [
    "#### entropy function for entropy before spliting for missclassification rate"
   ]
  },
  {
   "cell_type": "code",
   "execution_count": 3,
   "metadata": {},
   "outputs": [],
   "source": [
    "#Missclassification rate\n",
    "def entropy(df):\n",
    "    entropy = sys.float_info.max\n",
    "    uniqueSet = df[targetattr].unique()\n",
    "    for elem in uniqueSet:\n",
    "        fraction = df[targetattr].value_counts()[elem]/float(len(df)+ eps)\n",
    "        entropy = min(entropy, fraction) #Missclassification formula\n",
    "    return entropy"
   ]
  },
  {
   "cell_type": "markdown",
   "metadata": {},
   "source": [
    "#### entropy_attr function for entropy after spliting for missclassification rate\n"
   ]
  },
  {
   "cell_type": "code",
   "execution_count": 4,
   "metadata": {},
   "outputs": [],
   "source": [
    "#Missclassification rate for optimization\n",
    "def entropy_attr(num_of_ones , total):\n",
    "    fraction1 = num_of_ones/(total + eps)\n",
    "    fraction2 = (total - num_of_ones)/(total + eps)\n",
    "    entropy = min(fraction1 , fraction2) #Missclassification formula\n",
    "    return entropy"
   ]
  },
  {
   "cell_type": "markdown",
   "metadata": {},
   "source": [
    "#### InumMin function to calculate minimun impurity for weighted entropy in numerical attribute"
   ]
  },
  {
   "cell_type": "code",
   "execution_count": 5,
   "metadata": {},
   "outputs": [],
   "source": [
    "def InumMin(df , attribute):\n",
    "    target_variables = df[targetattr].unique()  #This gives all 'Yes' and 'No'\n",
    "    variables = df[attribute].unique()    #This gives different features in that attribute (like 'Hot','Cold' in Temperature)\n",
    "    \n",
    "    variables.sort()\n",
    "    \n",
    "    split = 0\n",
    "    minInum = sys.float_info.max\n",
    "    total_ones = df[targetattr].value_counts()[target_variables[0]]\n",
    "    arr = df[[attribute, targetattr]].values\n",
    "    arr = arr[np.argsort(arr[:, 0])]\n",
    "\n",
    "    nRows = arr.shape[0]\n",
    "\n",
    "    num_of_ones = 0\n",
    "    i = 0\n",
    "    for variable in variables:\n",
    "        impurity = 0.0\n",
    "        while (i < nRows and arr[i][0] == variable) :\n",
    "            if arr[i][1] == target_variables[0]:\n",
    "                num_of_ones += 1\n",
    "            i += 1\n",
    "        num_left = i\n",
    "        fraction_left = num_left/(nRows + eps)\n",
    "        if num_left == 0:\n",
    "            impurity += 0.0\n",
    "        else:\n",
    "            impurity += fraction_left*entropy_attr(num_of_ones , num_left) \n",
    "            \n",
    "        num_right = nRows - num_left\n",
    "        fraction_right = num_right/(nRows + eps)\n",
    "        if num_right == 0:\n",
    "            impurity += 0.0\n",
    "        else:\n",
    "            impurity += fraction_right*entropy_attr(total_ones - num_of_ones , num_right) \n",
    "        \n",
    "        if minInum > impurity:\n",
    "            minInum = impurity\n",
    "            split = variable\n",
    "        \n",
    "    return split , minInum"
   ]
  },
  {
   "cell_type": "markdown",
   "metadata": {},
   "source": [
    "#### Impurity function to calculate impurity for weighted entropy"
   ]
  },
  {
   "cell_type": "code",
   "execution_count": 6,
   "metadata": {},
   "outputs": [],
   "source": [
    "def I(df , attribute):\n",
    "    target_variables = df[targetattr].unique()  #This gives all 'Yes' and 'No'\n",
    "    variables = df[attribute].unique()    #This gives different features in that attribute (like 'Hot','Cold' in Temperature)\n",
    "    den = len(df[attribute])\n",
    "    impurity = 0\n",
    "    for variable in variables:\n",
    "        num = len(df[attribute][df[attribute] == variable])\n",
    "        fraction = num/(den + eps)\n",
    "        if num == 0:\n",
    "            impurity += 0.0\n",
    "        else:\n",
    "            impurity += fraction*entropy(df[df[attribute] == variable]) \n",
    "    return impurity"
   ]
  },
  {
   "cell_type": "markdown",
   "metadata": {},
   "source": [
    "#### get_subtableCat to filter data frame that has catagorical attribute"
   ]
  },
  {
   "cell_type": "code",
   "execution_count": 7,
   "metadata": {},
   "outputs": [],
   "source": [
    "def get_subtableCat(df, node,value):\n",
    "    return df[df[node] == value].reset_index(drop=True)\n"
   ]
  },
  {
   "cell_type": "markdown",
   "metadata": {},
   "source": [
    "#### get_subtableCat to filter data frame that has numerical attribute\n"
   ]
  },
  {
   "cell_type": "code",
   "execution_count": 8,
   "metadata": {},
   "outputs": [],
   "source": [
    "def get_subtableNum(df, node, value):\n",
    "    return df[df[node] <= value].reset_index(drop=True) , df[df[node] > value].reset_index(drop=True)"
   ]
  },
  {
   "cell_type": "markdown",
   "metadata": {},
   "source": [
    "#### Tree Builder Function\n"
   ]
  },
  {
   "cell_type": "code",
   "execution_count": 9,
   "metadata": {},
   "outputs": [],
   "source": [
    "def treeBuilder(df, tree=None):     \n",
    "    #Here we build our decision tree   \n",
    "    #Get attribute with maximum information gain\n",
    "    node, split = maxInfoGainNodeSplit(df)\n",
    "        \n",
    "    if node is None:\n",
    "        clValue,counts = np.unique(df[targetattr],return_counts=True)  \n",
    "        return clValue[np.argmax(counts)]\n",
    "\n",
    "#     print (node)\n",
    "    \n",
    "    #Create an empty dictionary to create tree    \n",
    "    if tree is None:                    \n",
    "        tree={}\n",
    "        tree[node] = {}\n",
    "        \n",
    "    if node in catagorical:\n",
    "        #Get distinct value of that attribute e.g Salary is node and Low,Med and High are values\n",
    "        attValue = np.unique(df[node])\n",
    "\n",
    "\n",
    "       #We make loop to construct a tree by calling this function recursively. \n",
    "        #In this we check if the subset is pure and stops if it is pure. \n",
    "\n",
    "        for value in attValue:\n",
    "            subtable = get_subtableCat(df,node,value)\n",
    "            clValue,counts = np.unique(subtable[targetattr],return_counts=True)                        \n",
    "\n",
    "            if len(counts)==1:#Checking purity of subset\n",
    "                tree[node][value] = clValue[0]\n",
    "            else:        \n",
    "                tree[node][value] = treeBuilder(subtable) #Calling the function recursively \n",
    "                \n",
    "    elif node in numerical:\n",
    "        left_subtable , right_subtable = get_subtableNum(df,node,split)\n",
    "        \n",
    "        clValue,counts = np.unique(left_subtable[targetattr],return_counts=True)                      \n",
    "        \n",
    "        if len(counts)==1:#Checking purity of subset\n",
    "            tree[node][split] = clValue[0]\n",
    "        else:        \n",
    "            tree[node][split] = treeBuilder(left_subtable) #Calling the function recursively \n",
    "            \n",
    "        clValue,counts = np.unique(right_subtable[targetattr],return_counts=True)                        \n",
    "        \n",
    "        if len(counts)==1:#Checking purity of subset\n",
    "            tree[node][float(split) + 0.00002] = clValue[0]\n",
    "        else:        \n",
    "            tree[node][float(split) + 0.00002] = treeBuilder(right_subtable) #Calling the function recursively \n",
    "            \n",
    "    return tree\n"
   ]
  },
  {
   "cell_type": "markdown",
   "metadata": {},
   "source": [
    "#### Run the code to build the tree"
   ]
  },
  {
   "cell_type": "code",
   "execution_count": 10,
   "metadata": {
    "scrolled": false
   },
   "outputs": [
    {
     "name": "stdout",
     "output_type": "stream",
     "text": [
      "{'satisfaction_level': {0.11: 1,\n",
      "                        0.11002: {'number_project': {2: {'satisfaction_level': {0.46: {'last_evaluation': {0.57: {'last_evaluation': {0.44: 0,\n",
      "                                                                                                                                      0.44002: {'average_montly_hours': {161: {'satisfaction_level': {0.31: 0,\n",
      "                                                                                                                                                                                                      0.31002: {'average_montly_hours': {125: 0,\n",
      "                                                                                                                                                                                                                                         125.00002: {'satisfaction_level': {0.37: {'last_evaluation': {0.51: 1,\n",
      "                                                                                                                                                                                                                                                                                                       0.51002: 1}},\n",
      "                                                                                                                                                                                                                                                                            0.37002: {'satisfaction_level': {0.38: 1,\n",
      "                                                                                                                                                                                                                                                                                                             0.38002: {'satisfaction_level': {0.42: 1,\n",
      "                                                                                                                                                                                                                                                                                                                                              0.42002: 1}}}}}}}}}},\n",
      "                                                                                                                                                                         161.00002: {'satisfaction_level': {0.32: 0,\n",
      "                                                                                                                                                                                                            0.32002: 0}}}}}},\n",
      "                                                                                                           0.57002: {'satisfaction_level': {0.31: 0,\n",
      "                                                                                                                                            0.31002: 0}}}},\n",
      "                                                                                0.46002000000000004: {'last_evaluation': {0.99: {'average_montly_hours': {287: {'satisfaction_level': {0.48: {'last_evaluation': {0.74: 0,\n",
      "                                                                                                                                                                                                                  0.74002: 1}},\n",
      "                                                                                                                                                                                       0.48002: {'satisfaction_level': {0.52: 0,\n",
      "                                                                                                                                                                                                                        0.52002: 0}}}},\n",
      "                                                                                                                                                          287.00002: 1}},\n",
      "                                                                                                                          0.99002: {'satisfaction_level': {0.72: {'satisfaction_level': {0.49: 0,\n",
      "                                                                                                                                                                                         0.49002: 1}},\n",
      "                                                                                                                                                           0.72002: 0}}}}}},\n",
      "                                                     2.00002: {'last_evaluation': {0.99: {'number_project': {6: {'average_montly_hours': {287: {'satisfaction_level': {0.15: {'satisfaction_level': {0.13: {'time_spend_company': {2: {'last_evaluation': {0.58: 0,\n",
      "                                                                                                                                                                                                                                                           0.58002: 1}},\n",
      "                                                                                                                                                                                                                                   2.00002: 0}},\n",
      "                                                                                                                                                                                                     0.13002: 0}},\n",
      "                                                                                                                                                                       0.15002: {'satisfaction_level': {0.16: {'last_evaluation': {0.42: 0,\n",
      "                                                                                                                                                                                                                                   0.42002: 0}},\n",
      "                                                                                                                                                                                                        0.16002: {'average_montly_hours': {163: {'last_evaluation': {0.58: {'satisfaction_level': {0.19: 0,\n",
      "                                                                                                                                                                                                                                                                                                   0.19002: 0}},\n",
      "                                                                                                                                                                                                                                                                     0.58002: {'last_evaluation': {0.63: {'average_montly_hours': {161: 0,\n",
      "                                                                                                                                                                                                                                                                                                                                   161.00002: 0}},\n",
      "                                                                                                                                                                                                                                                                                                   0.63002: {'satisfaction_level': {0.81: {'last_evaluation': {0.7: {'satisfaction_level': {0.8: {'satisfaction_level': {0.21: 0,\n",
      "                                                                                                                                                                                                                                                                                                                                                                                                                         0.21001999999999998: 0}},\n",
      "                                                                                                                                                                                                                                                                                                                                                                                            0.8000200000000001: {'last_evaluation': {0.69: 0,\n",
      "                                                                                                                                                                                                                                                                                                                                                                                                                                     0.69002: 1}}}},\n",
      "                                                                                                                                                                                                                                                                                                                                                               0.70002: {'satisfaction_level': {0.75: 0,\n",
      "                                                                                                                                                                                                                                                                                                                                                                                                0.75002: 0}}}},\n",
      "                                                                                                                                                                                                                                                                                                                                    0.8100200000000001: {'satisfaction_level': {0.94: 0,\n",
      "                                                                                                                                                                                                                                                                                                                                                                                0.94002: 0}}}}}}}},\n",
      "                                                                                                                                                                                                                                           163.00002: {'last_evaluation': {0.78: {'average_montly_hours': {186: 0,\n",
      "                                                                                                                                                                                                                                                                                                           186.00002: 0}},\n",
      "                                                                                                                                                                                                                                                                           0.78002: {'time_spend_company': {4: 0,\n",
      "                                                                                                                                                                                                                                                                                                            4.00002: {'satisfaction_level': {0.71: {'satisfaction_level': {0.55: {'average_montly_hours': {165: 1,\n",
      "                                                                                                                                                                                                                                                                                                                                                                                                           165.00002: 0}},\n",
      "                                                                                                                                                                                                                                                                                                                                                                           0.5500200000000001: 0}},\n",
      "                                                                                                                                                                                                                                                                                                                                             0.71002: {'average_montly_hours': {216: 0,\n",
      "                                                                                                                                                                                                                                                                                                                                                                                216.00002: {'number_project': {3: 0,\n",
      "                                                                                                                                                                                                                                                                                                                                                                                                               3.00002: {'time_spend_company': {6: {'satisfaction_level': {0.92: {'last_evaluation': {0.8: 0,\n",
      "                                                                                                                                                                                                                                                                                                                                                                                                                                                                                                      0.8000200000000001: {'number_project': {5: {'satisfaction_level': {0.82: {'satisfaction_level': {0.76: 1,\n",
      "                                                                                                                                                                                                                                                                                                                                                                                                                                                                                                                                                                                                       0.76002: 1}},\n",
      "                                                                                                                                                                                                                                                                                                                                                                                                                                                                                                                                                                         0.82002: 1}},\n",
      "                                                                                                                                                                                                                                                                                                                                                                                                                                                                                                                                              5.00002: 0}}}},\n",
      "                                                                                                                                                                                                                                                                                                                                                                                                                                                                           0.9200200000000001: 0}},\n",
      "                                                                                                                                                                                                                                                                                                                                                                                                                                                6.00002: 0}}}}}}}}}}}}}}}}}},\n",
      "                                                                                                                                          287.00002: 1}},\n",
      "                                                                                                             6.00002: 1}},\n",
      "                                                                                   0.99002: {'time_spend_company': {4: {'satisfaction_level': {0.12: 1,\n",
      "                                                                                                                                               0.12002: {'satisfaction_level': {0.38: {'number_project': {5: 1,\n",
      "                                                                                                                                                                                                          5.00002: 0}},\n",
      "                                                                                                                                                                                0.38002: {'number_project': {5: {'satisfaction_level': {0.42: 1,\n",
      "                                                                                                                                                                                                                                        0.42002: {'satisfaction_level': {0.63: 0,\n",
      "                                                                                                                                                                                                                                                                         0.63002: 0}}}},\n",
      "                                                                                                                                                                                                             5.00002: {'satisfaction_level': {0.4: 0,\n",
      "                                                                                                                                                                                                                                              0.40002000000000004: 1}}}}}}}},\n",
      "                                                                                                                    4.00002: {'satisfaction_level': {0.58: 0,\n",
      "                                                                                                                                                     0.58002: {'satisfaction_level': {0.91: {'number_project': {5: 1,\n",
      "                                                                                                                                                                                                                5.00002: 0}},\n",
      "                                                                                                                                                                                      0.91002: 0}}}}}}}}}}}}\n"
     ]
    }
   ],
   "source": [
    "tree = treeBuilder(trainingSet)\n",
    "pprint.pprint(tree)\n",
    "\n"
   ]
  },
  {
   "cell_type": "markdown",
   "metadata": {},
   "source": [
    "#### predict function predicts the value of class attribute for a given row of input and tree"
   ]
  },
  {
   "cell_type": "code",
   "execution_count": 11,
   "metadata": {},
   "outputs": [],
   "source": [
    "def predict(tree , row):\n",
    "    #This function is used to predict for any input variable \n",
    "    \n",
    "    #Recursively we go through the tree that we built earlier\n",
    "    for nodes in tree.keys():        \n",
    "        value = row[nodes]\n",
    "        if nodes in catagorical:\n",
    "            if value in list((tree[nodes]).keys()):\n",
    "                tree = tree[nodes][value]\n",
    "            else:\n",
    "                zeros = 0\n",
    "                ones = 0\n",
    "                for i in tree[nodes].keys():\n",
    "                    if tree[nodes][i] == 0:\n",
    "                        zeros += 1\n",
    "                    elif tree[nodes][i] == 1:\n",
    "                        ones += 1\n",
    "                if zeros > ones:\n",
    "                    return 0\n",
    "                else:\n",
    "                    return 1\n",
    "        else:\n",
    "            binaryValue = list(tree[nodes].keys())\n",
    "            if value <= binaryValue[0]:\n",
    "                tree = tree[nodes][binaryValue[0]]\n",
    "            else:\n",
    "                tree = tree[nodes][binaryValue[1]]\n",
    "        prediction = 0\n",
    "        if type(tree) is dict:\n",
    "            prediction = predict(tree , row)\n",
    "        else:\n",
    "            prediction = tree\n",
    "            break;   \n",
    "            \n",
    "    return prediction"
   ]
  },
  {
   "cell_type": "markdown",
   "metadata": {},
   "source": [
    "#### validate function validates the given Data Frame"
   ]
  },
  {
   "cell_type": "code",
   "execution_count": 12,
   "metadata": {},
   "outputs": [],
   "source": [
    "def validate(tree, df):\n",
    "    true_positive = 0\n",
    "    true_negative = 0 \n",
    "    false_negative = 0\n",
    "    false_positive = 0\n",
    "    result = []\n",
    "    for index, row in df.iterrows():\n",
    "        value = predict(tree, row)\n",
    "        result.append(value)\n",
    "        if value == row[targetattr]:\n",
    "            if value == 1:\n",
    "                true_positive += 1\n",
    "            else:\n",
    "                true_negative += 1\n",
    "        else:\n",
    "            if value == 1:\n",
    "                false_positive += 1\n",
    "            else:\n",
    "                false_negative += 1\n",
    "    return true_positive, true_negative , false_negative, false_positive, result"
   ]
  },
  {
   "cell_type": "code",
   "execution_count": 13,
   "metadata": {},
   "outputs": [],
   "source": [
    "def accuracy(true_positive , true_negative , false_negative, false_positive):\n",
    "    return ((true_positive + true_negative)*100)/(true_positive + true_negative + false_positive + false_negative + eps)"
   ]
  },
  {
   "cell_type": "code",
   "execution_count": 14,
   "metadata": {},
   "outputs": [],
   "source": [
    "def recall(true_positive , false_negative):\n",
    "    return true_positive*100/(true_positive +  false_negative+ eps)"
   ]
  },
  {
   "cell_type": "code",
   "execution_count": 15,
   "metadata": {},
   "outputs": [],
   "source": [
    "def precision(true_positive , false_positive):\n",
    "    return true_positive*100/(true_positive +  false_positive + eps)"
   ]
  },
  {
   "cell_type": "code",
   "execution_count": 16,
   "metadata": {},
   "outputs": [],
   "source": [
    "def f1score(recall , prescision):\n",
    "    return 2/(1/(recall)+1/(prescision))"
   ]
  },
  {
   "cell_type": "markdown",
   "metadata": {},
   "source": [
    "#### Run the code to calculate Accuracy, Recall, Precision, F1-score"
   ]
  },
  {
   "cell_type": "code",
   "execution_count": 17,
   "metadata": {
    "scrolled": true
   },
   "outputs": [
    {
     "name": "stdout",
     "output_type": "stream",
     "text": [
      "------------MISSCLASSIFICTION RATE------------\n",
      "ACCURACY%:  98.08718861209964\n",
      "RECALL:  93.39449541284404\n",
      "PRECISION:  98.64341085271317\n",
      "F1-score:  95.94721960414704\n",
      "[0, 0, 0, 0, 0, 0, 0, 0, 1, 0, 0, 1, 0, 0, 0, 0, 0, 0, 0, 0, 0, 0, 0, 1, 1, 0, 1, 0, 1, 0, 0, 0, 1, 0, 1, 0, 1, 0, 1, 0, 0, 0, 0, 1, 0, 0, 0, 0, 0, 1, 0, 0, 0, 1, 0, 0, 1, 0, 0, 0, 0, 0, 0, 0, 0, 0, 0, 0, 1, 0, 0, 0, 0, 0, 0, 0, 0, 0, 0, 0, 0, 0, 1, 0, 0, 1, 0, 0, 1, 0, 0, 1, 0, 0, 0, 1, 0, 0, 0, 0, 1, 0, 0, 0, 0, 0, 0, 0, 0, 0, 0, 1, 0, 0, 0, 1, 0, 1, 0, 1, 1, 0, 0, 0, 1, 0, 0, 0, 0, 0, 0, 1, 0, 0, 0, 0, 0, 0, 0, 0, 0, 0, 0, 1, 0, 0, 0, 0, 0, 0, 0, 0, 0, 0, 0, 0, 0, 0, 0, 0, 0, 0, 1, 1, 0, 0, 0, 0, 0, 0, 0, 0, 0, 1, 0, 0, 1, 0, 0, 0, 1, 0, 1, 0, 0, 0, 0, 0, 0, 1, 0, 1, 0, 0, 0, 0, 0, 0, 0, 0, 0, 0, 1, 0, 0, 0, 0, 0, 0, 1, 0, 1, 0, 0, 1, 1, 0, 0, 0, 0, 0, 0, 0, 0, 0, 0, 1, 0, 1, 0, 0, 0, 0, 0, 0, 0, 0, 0, 0, 0, 1, 0, 0, 1, 0, 0, 0, 0, 0, 0, 1, 0, 0, 0, 0, 1, 0, 1, 1, 0, 0, 1, 1, 0, 0, 0, 1, 0, 0, 0, 0, 0, 0, 0, 1, 1, 1, 0, 0, 0, 0, 0, 0, 0, 0, 0, 0, 0, 0, 0, 0, 0, 1, 0, 0, 0, 0, 1, 0, 0, 0, 0, 0, 0, 0, 0, 0, 0, 0, 0, 0, 0, 0, 0, 1, 0, 0, 0, 0, 0, 0, 0, 0, 0, 0, 0, 1, 1, 0, 0, 0, 1, 0, 0, 1, 0, 0, 0, 0, 1, 0, 0, 0, 0, 0, 0, 0, 0, 0, 0, 0, 1, 0, 0, 0, 0, 1, 0, 1, 0, 0, 0, 0, 0, 0, 0, 0, 0, 0, 1, 0, 0, 0, 0, 0, 1, 1, 0, 0, 0, 0, 0, 0, 1, 1, 1, 1, 0, 0, 0, 1, 0, 0, 0, 0, 0, 0, 0, 0, 0, 0, 1, 0, 0, 1, 0, 0, 1, 0, 0, 0, 0, 0, 0, 0, 0, 0, 0, 1, 0, 0, 0, 0, 1, 1, 1, 0, 1, 0, 0, 0, 0, 0, 0, 0, 1, 0, 0, 0, 0, 0, 1, 1, 0, 0, 1, 0, 0, 1, 0, 0, 0, 0, 0, 1, 0, 0, 0, 0, 0, 0, 0, 0, 0, 1, 1, 0, 0, 0, 0, 0, 1, 0, 1, 0, 0, 1, 1, 0, 0, 0, 0, 0, 1, 0, 0, 1, 0, 0, 0, 1, 0, 0, 0, 0, 0, 0, 0, 0, 1, 0, 0, 0, 0, 0, 0, 0, 0, 0, 0, 0, 0, 0, 0, 1, 0, 0, 0, 0, 0, 1, 0, 0, 0, 0, 0, 0, 1, 1, 0, 0, 0, 0, 0, 0, 0, 0, 0, 0, 1, 0, 0, 1, 0, 0, 0, 0, 1, 0, 0, 0, 0, 0, 0, 0, 1, 0, 0, 0, 0, 0, 0, 0, 1, 1, 0, 0, 0, 0, 0, 0, 0, 1, 0, 0, 0, 1, 1, 0, 0, 0, 0, 0, 0, 1, 0, 0, 1, 0, 0, 0, 0, 0, 0, 0, 0, 0, 0, 1, 1, 0, 0, 0, 0, 1, 0, 0, 0, 0, 0, 0, 0, 1, 1, 0, 0, 0, 0, 0, 0, 0, 0, 1, 0, 0, 1, 0, 0, 0, 1, 1, 0, 0, 1, 0, 0, 0, 0, 0, 0, 0, 0, 0, 0, 0, 1, 0, 0, 0, 0, 0, 1, 0, 0, 0, 1, 0, 1, 0, 1, 1, 0, 1, 0, 0, 0, 0, 0, 0, 0, 0, 0, 0, 0, 0, 0, 1, 0, 0, 0, 0, 0, 1, 0, 0, 0, 0, 0, 0, 0, 0, 0, 0, 0, 1, 1, 0, 0, 0, 1, 0, 0, 1, 0, 0, 1, 0, 0, 0, 1, 0, 0, 1, 0, 1, 0, 1, 0, 0, 1, 0, 0, 0, 0, 1, 0, 0, 0, 0, 0, 0, 0, 0, 0, 1, 0, 0, 0, 0, 0, 1, 0, 0, 1, 0, 0, 0, 1, 0, 0, 0, 1, 1, 0, 0, 0, 0, 0, 0, 1, 0, 0, 0, 0, 0, 0, 0, 0, 0, 1, 0, 0, 1, 0, 0, 0, 0, 0, 0, 1, 0, 0, 1, 0, 0, 0, 0, 0, 0, 0, 1, 0, 1, 0, 1, 0, 0, 0, 0, 1, 1, 0, 0, 0, 0, 0, 0, 1, 0, 1, 0, 0, 0, 0, 1, 0, 0, 1, 0, 0, 0, 1, 1, 1, 0, 0, 1, 1, 0, 0, 0, 0, 0, 0, 0, 1, 1, 0, 0, 1, 0, 0, 1, 0, 0, 0, 0, 0, 0, 0, 0, 1, 0, 0, 0, 0, 0, 0, 1, 0, 0, 0, 0, 0, 0, 0, 0, 0, 0, 0, 0, 0, 0, 0, 0, 0, 0, 1, 1, 0, 0, 0, 1, 1, 0, 0, 0, 0, 0, 0, 0, 0, 0, 0, 0, 0, 0, 1, 0, 0, 0, 0, 0, 0, 1, 0, 0, 0, 1, 0, 1, 1, 0, 0, 0, 0, 0, 0, 0, 0, 0, 0, 1, 1, 0, 0, 1, 0, 0, 0, 0, 0, 0, 1, 1, 0, 1, 0, 0, 1, 0, 1, 0, 1, 0, 0, 0, 0, 0, 0, 1, 0, 0, 1, 0, 1, 0, 0, 0, 0, 1, 0, 0, 0, 0, 1, 0, 1, 0, 0, 0, 1, 0, 0, 1, 1, 1, 0, 0, 1, 1, 0, 0, 1, 0, 0, 0, 0, 1, 0, 0, 1, 0, 0, 0, 0, 0, 0, 1, 0, 0, 0, 1, 0, 0, 0, 0, 0, 0, 0, 0, 0, 0, 1, 0, 0, 0, 0, 0, 0, 0, 0, 1, 1, 1, 1, 0, 0, 0, 0, 0, 0, 1, 1, 0, 0, 0, 1, 1, 1, 1, 0, 1, 0, 1, 0, 1, 1, 1, 0, 0, 0, 0, 0, 0, 1, 1, 0, 1, 1, 1, 1, 0, 0, 1, 0, 0, 1, 0, 0, 0, 0, 0, 1, 1, 0, 1, 1, 0, 0, 1, 0, 1, 0, 0, 0, 0, 0, 0, 0, 0, 0, 0, 0, 0, 0, 0, 1, 0, 0, 0, 0, 1, 0, 0, 1, 0, 0, 0, 0, 1, 0, 0, 0, 0, 0, 0, 0, 0, 1, 1, 0, 0, 1, 0, 1, 1, 1, 0, 1, 0, 0, 0, 0, 0, 0, 0, 0, 0, 0, 0, 1, 1, 0, 0, 0, 0, 1, 0, 0, 0, 0, 1, 0, 0, 0, 0, 0, 0, 0, 0, 0, 0, 0, 1, 0, 0, 0, 0, 0, 0, 1, 0, 0, 0, 0, 0, 0, 0, 0, 1, 0, 0, 1, 0, 0, 0, 0, 0, 0, 0, 0, 1, 0, 0, 0, 0, 0, 1, 0, 0, 0, 1, 0, 0, 0, 1, 1, 0, 0, 1, 0, 0, 0, 0, 0, 1, 0, 0, 0, 0, 0, 1, 1, 0, 0, 0, 1, 1, 1, 1, 0, 0, 0, 1, 0, 0, 0, 0, 0, 0, 0, 0, 0, 0, 0, 0, 0, 0, 0, 1, 0, 1, 1, 0, 0, 0, 1, 0, 1, 1, 0, 0, 0, 1, 0, 0, 0, 0, 1, 0, 1, 0, 1, 0, 0, 0, 0, 0, 0, 0, 0, 0, 0, 0, 1, 0, 1, 0, 0, 1, 1, 0, 0, 1, 0, 0, 0, 1, 0, 0, 0, 1, 0, 0, 0, 0, 1, 0, 0, 0, 0, 1, 0, 0, 0, 0, 0, 0, 0, 0, 0, 0, 1, 0, 1, 1, 0, 0, 0, 1, 0, 0, 0, 0, 0, 0, 0, 0, 0, 1, 0, 0, 0, 0, 1, 1, 1, 0, 0, 0, 0, 0, 0, 1, 0, 1, 1, 0, 1, 1, 0, 1, 0, 0, 0, 1, 0, 0, 0, 0, 0, 0, 0, 0, 0, 0, 0, 0, 1, 0, 0, 0, 0, 1, 0, 1, 1, 0, 0, 1, 0, 0, 0, 0, 1, 1, 0, 1, 0, 0, 0, 0, 0, 1, 0, 1, 1, 0, 0, 0, 0, 1, 1, 0, 0, 1, 0, 0, 0, 0, 0, 0, 1, 0, 0, 0, 0, 0, 0, 0, 1, 0, 0, 0, 0, 0, 0, 0, 1, 1, 0, 0, 1, 1, 1, 0, 0, 0, 0, 0, 0, 1, 0, 0, 0, 0, 1, 0, 0, 0, 0, 0, 0, 0, 0, 0, 0, 1, 1, 0, 0, 0, 0, 0, 0, 0, 1, 0, 0, 0, 0, 1, 0, 0, 0, 1, 0, 0, 0, 0, 0, 0, 0, 0, 0, 0, 0, 0, 0, 0, 0, 0, 1, 0, 0, 0, 1, 0, 0, 0, 1, 0, 0, 0, 0, 0, 0, 0, 0, 0, 0, 0, 0, 0, 0, 1, 0, 1, 0, 0, 0, 0, 0, 0, 0, 0, 0, 0, 0, 0, 0, 0, 0, 0, 0, 0, 1, 0, 0, 0, 0, 0, 0, 0, 0, 0, 1, 0, 0, 1, 0, 1, 0, 1, 0, 1, 0, 0, 0, 1, 0, 0, 0, 0, 1, 1, 1, 0, 1, 0, 0, 0, 0, 1, 0, 0, 0, 0, 0, 0, 1, 0, 0, 0, 0, 1, 1, 0, 0, 1, 0, 1, 0, 0, 0, 0, 1, 0, 0, 0, 0, 1, 0, 0, 0, 1, 0, 0, 0, 0, 1, 0, 0, 0, 0, 0, 0, 0, 1, 1, 0, 0, 0, 0, 1, 0, 0, 1, 1, 0, 0, 0, 1, 1, 0, 1, 0, 0, 0, 0, 0, 0, 0, 0, 0, 0, 0, 0, 0, 1, 0, 1, 0, 0, 1, 1, 0, 0, 1, 0, 1, 1, 0, 0, 1, 1, 0, 1, 0, 0, 0, 1, 1, 0, 0, 1, 0, 0, 0, 0, 0, 0, 0, 0, 0, 0, 0, 1, 1, 0, 1, 0, 0, 0, 0, 0, 0, 0, 1, 0, 0, 0, 0, 0, 0, 0, 0, 0, 0, 0, 1, 0, 0, 0, 0, 0, 0, 0, 0, 0, 0, 0, 1, 1, 0, 1, 0, 0, 0, 1, 0, 0, 0, 1, 0, 1, 0, 1, 0, 1, 1, 1, 1, 0, 1, 0, 1, 0, 1, 0, 1, 0, 0, 0, 0, 0, 0, 0, 1, 0, 0, 1, 0, 0, 0, 0, 1, 0, 0, 1, 0, 0, 0, 0, 0, 0, 0, 1, 1, 0, 0, 0, 0, 0, 0, 1, 0, 0, 1, 0, 0, 1, 0, 0, 1, 0, 1, 1, 0, 0, 1, 0, 0, 0, 0, 0, 0, 0, 0, 0, 1, 0, 0, 1, 1, 0, 1, 0, 0, 0, 0, 0, 0, 0, 0, 0, 0, 0, 0, 1, 1, 0, 0, 0, 1, 0, 0, 0, 0, 0, 0, 0, 0, 1, 1, 0, 1, 0, 0, 0, 0, 1, 0, 0, 1, 0, 1, 0, 0, 0, 1, 0, 0, 1, 0, 1, 0, 1, 0, 0, 0, 1, 1, 0, 0, 0, 1, 1, 0, 1, 0, 1, 0, 0, 0, 0, 0, 0, 0, 0, 0, 0, 0, 0, 1, 0, 0, 0, 0, 0, 0, 0, 1, 0, 1, 0, 1, 0, 0, 0, 0, 0, 0, 0, 1, 0, 1, 0, 0, 0, 0, 0, 0, 0, 0, 1, 0, 0, 0, 0, 0, 1, 0, 1, 0, 0, 0, 0, 1, 0, 1, 0, 0, 0, 0, 0, 0, 0, 1, 1, 0, 0, 1, 0, 0, 0, 0, 0, 0, 1, 0, 0, 0, 0, 0, 0, 0, 1, 0, 0, 0, 1, 0, 0, 0, 1, 0, 0, 0, 0, 0, 1, 1, 0, 0, 0, 0, 0, 0, 0, 0, 0, 0, 0, 1, 0, 1, 0, 0, 0, 0, 1, 0, 0, 1, 0, 1, 1, 1, 1, 0, 0, 0, 0, 0, 1, 1, 0, 0, 0, 0, 1, 0, 1, 0, 0, 0, 0, 0, 0, 0, 0, 0, 1, 0, 0, 0, 0, 0, 1, 1, 0, 0, 0, 1, 0, 1, 1, 1, 0, 0, 0, 0, 0, 0, 0, 1, 1, 0, 0, 0, 0, 1, 1, 0, 1, 1, 0, 0, 0, 0, 1, 1, 0, 0, 0, 0, 0, 0, 0, 0, 0, 1, 1, 0, 0, 0, 0, 1, 0, 0, 0, 0, 0, 0, 0, 0, 0, 0, 1, 0, 0, 0, 1, 0, 1, 0, 1, 0, 1, 0, 0, 0, 0, 0, 0, 0, 0, 1, 0, 0, 0, 0, 0, 0, 0, 0, 0, 0, 0, 0, 0, 1, 0, 0, 0, 0, 0, 0, 0, 0, 0, 0, 0, 0, 1, 0, 0, 0, 1, 1, 0, 0, 0, 1, 0, 1, 0, 0, 0, 1, 1, 0, 0, 0, 0, 0, 0, 1, 0, 0, 1, 0, 0, 0, 0, 0, 0, 1, 0, 0, 0, 0, 0, 0, 0, 1, 0, 0, 0, 0, 0, 0, 0, 0, 0, 0, 1, 1, 0, 0, 0, 0, 0, 0, 0, 0, 0, 0, 1, 0, 0, 0, 0, 1, 1, 1, 0, 0, 0, 0, 0, 0, 1, 0, 1, 0, 1, 1, 0, 0, 0, 0, 0, 0, 0, 0]\n"
     ]
    }
   ],
   "source": [
    "def RESULT(tree, validationSet):\n",
    "    true_positive , true_negative , false_negative, false_positive, result = validate(tree , validationSet)\n",
    "    acc = accuracy(true_positive , true_negative , false_negative, false_positive)\n",
    "    rec = recall(true_positive , false_negative)\n",
    "    pre = precision(true_positive , false_positive)\n",
    "    f1 = f1score(rec, pre)\n",
    "    \n",
    "    print(\"------------MISSCLASSIFICTION RATE------------\")\n",
    "    print(\"ACCURACY%: \", acc)\n",
    "    print(\"RECALL: \", rec)\n",
    "    print(\"PRECISION: \", pre)\n",
    "    print(\"F1-score: \", f1)\n",
    "    print(result)\n",
    "    \n",
    "RESULT(tree , validationSet)"
   ]
  },
  {
   "cell_type": "markdown",
   "metadata": {},
   "source": [
    "###### TESTING function resturns list of output\n"
   ]
  },
  {
   "cell_type": "code",
   "execution_count": 18,
   "metadata": {},
   "outputs": [],
   "source": [
    "def TESTING(tree, df):\n",
    "    result = []\n",
    "    for index, row in df.iterrows():\n",
    "        value = predict(tree, row)\n",
    "        result.append(value)\n",
    "    return result"
   ]
  },
  {
   "cell_type": "markdown",
   "metadata": {},
   "source": [
    "### TEST YOUR DATASET HERE...."
   ]
  },
  {
   "cell_type": "code",
   "execution_count": 21,
   "metadata": {},
   "outputs": [
    {
     "name": "stdout",
     "output_type": "stream",
     "text": [
      "[0, 1]\n",
      "   satisfaction_level  last_evaluation  number_project  average_montly_hours  \\\n",
      "0                0.69             0.69               3                   236   \n",
      "1                0.36             0.54               2                   153   \n",
      "\n",
      "   time_spend_company  Work_accident  promotion_last_5years        sales  \\\n",
      "0                   4              0                      0  product_mng   \n",
      "1                   3              1                      0   accounting   \n",
      "\n",
      "   salary  left  \n",
      "0  medium     0  \n",
      "1  medium     1  \n"
     ]
    }
   ],
   "source": [
    "testingData = pd.read_csv(\"./../input_data/sample_test.csv\")\n",
    "res = TESTING(tree, testingData)\n",
    "testingData[targetattr] = res\n",
    "testingData.to_csv(\"./../output_data/q-1-3-1_output.csv\",index = False)\n",
    "print (res)\n",
    "print(testingData)\n"
   ]
  },
  {
   "cell_type": "code",
   "execution_count": null,
   "metadata": {},
   "outputs": [],
   "source": []
  }
 ],
 "metadata": {
  "kernelspec": {
   "display_name": "Python 3",
   "language": "python",
   "name": "python3"
  },
  "language_info": {
   "codemirror_mode": {
    "name": "ipython",
    "version": 3
   },
   "file_extension": ".py",
   "mimetype": "text/x-python",
   "name": "python",
   "nbconvert_exporter": "python",
   "pygments_lexer": "ipython3",
   "version": "3.7.1"
  }
 },
 "nbformat": 4,
 "nbformat_minor": 2
}
