{
 "cells": [
  {
   "cell_type": "code",
   "execution_count": 1,
   "metadata": {},
   "outputs": [],
   "source": [
    "import numpy as np\n",
    "import pandas as pd\n",
    "\n",
    "from sklearn.neighbors import KernelDensity\n",
    "from sklearn.decomposition import PCA\n",
    "from sklearn.model_selection import GridSearchCV"
   ]
  },
  {
   "cell_type": "code",
   "execution_count": 2,
   "metadata": {},
   "outputs": [],
   "source": [
    "# read data set\n",
    "output_file = \"./../output_data/digits15d.csv\"\n",
    "dataSet = pd.read_csv(output_file)\n",
    "Class = \"target\"\n",
    "columns = list(dataSet.columns)[1:]\n",
    "dataSet = dataSet[columns]\n",
    "X = dataSet[columns[:-1]].values\n",
    "y = dataSet[[Class]].values\n"
   ]
  },
  {
   "cell_type": "code",
   "execution_count": 3,
   "metadata": {},
   "outputs": [
    {
     "name": "stdout",
     "output_type": "stream",
     "text": [
      "best bandwidth:  3.856620421163472\n"
     ]
    },
    {
     "data": {
      "text/plain": [
       "KernelDensity(algorithm='auto', atol=0, bandwidth=3.856620421163472,\n",
       "       breadth_first=True, kernel='gaussian', leaf_size=40,\n",
       "       metric='euclidean', metric_params=None, rtol=0)"
      ]
     },
     "execution_count": 3,
     "metadata": {},
     "output_type": "execute_result"
    }
   ],
   "source": [
    "# use grid search cross-validation to optimize the bandwidth\n",
    "params = {'bandwidth': np.logspace(-1, 1,  num = 30)}\n",
    "grid = GridSearchCV(KernelDensity(), params, cv=7)\n",
    "grid.fit(X)\n",
    "\n",
    "print(\"best bandwidth: \",grid.best_estimator_.bandwidth)\n",
    "\n",
    "# use the best estimator to compute the kernel density estimate\n",
    "kde15d = grid.best_estimator_\n",
    "kde15d"
   ]
  },
  {
   "cell_type": "code",
   "execution_count": null,
   "metadata": {},
   "outputs": [],
   "source": []
  },
  {
   "cell_type": "code",
   "execution_count": 4,
   "metadata": {},
   "outputs": [],
   "source": [
    "# read data set\n",
    "output_file = \"./../output_data/digits30d.csv\"\n",
    "dataSet = pd.read_csv(output_file)\n",
    "Class = \"target\"\n",
    "columns = list(dataSet.columns)[1:]\n",
    "dataSet = dataSet[columns]\n",
    "X = dataSet[columns[:-1]].values\n",
    "y = dataSet[[Class]].values\n"
   ]
  },
  {
   "cell_type": "code",
   "execution_count": 5,
   "metadata": {},
   "outputs": [
    {
     "name": "stdout",
     "output_type": "stream",
     "text": [
      "best bandwidth:  3.2903445623126677\n"
     ]
    },
    {
     "data": {
      "text/plain": [
       "KernelDensity(algorithm='auto', atol=0, bandwidth=3.2903445623126677,\n",
       "       breadth_first=True, kernel='gaussian', leaf_size=40,\n",
       "       metric='euclidean', metric_params=None, rtol=0)"
      ]
     },
     "execution_count": 5,
     "metadata": {},
     "output_type": "execute_result"
    }
   ],
   "source": [
    "# use grid search cross-validation to optimize the bandwidth\n",
    "params = {'bandwidth': np.logspace(-1, 1, num = 30)}\n",
    "grid = GridSearchCV(KernelDensity(), params, cv=7)\n",
    "grid.fit(X)\n",
    "\n",
    "print(\"best bandwidth: \",grid.best_estimator_.bandwidth)\n",
    "\n",
    "# use the best estimator to compute the kernel density estimate\n",
    "kde30d = grid.best_estimator_\n",
    "kde30d"
   ]
  },
  {
   "cell_type": "code",
   "execution_count": null,
   "metadata": {},
   "outputs": [],
   "source": []
  },
  {
   "cell_type": "code",
   "execution_count": 6,
   "metadata": {},
   "outputs": [],
   "source": [
    "# read data set\n",
    "output_file = \"./../output_data/digits41d.csv\"\n",
    "dataSet = pd.read_csv(output_file)\n",
    "Class = \"target\"\n",
    "columns = list(dataSet.columns)[1:]\n",
    "dataSet = dataSet[columns]\n",
    "X = dataSet[columns[:-1]].values\n",
    "y = dataSet[[Class]].values\n"
   ]
  },
  {
   "cell_type": "code",
   "execution_count": 7,
   "metadata": {},
   "outputs": [
    {
     "name": "stdout",
     "output_type": "stream",
     "text": [
      "best bandwidth:  2.807216203941177\n"
     ]
    },
    {
     "data": {
      "text/plain": [
       "KernelDensity(algorithm='auto', atol=0, bandwidth=2.807216203941177,\n",
       "       breadth_first=True, kernel='gaussian', leaf_size=40,\n",
       "       metric='euclidean', metric_params=None, rtol=0)"
      ]
     },
     "execution_count": 7,
     "metadata": {},
     "output_type": "execute_result"
    }
   ],
   "source": [
    "# use grid search cross-validation to optimize the bandwidth\n",
    "params = {'bandwidth': np.logspace(-1, 1, num = 30)}\n",
    "grid = GridSearchCV(KernelDensity(), params, cv = 7)\n",
    "grid.fit(X)\n",
    "\n",
    "print(\"best bandwidth: \",grid.best_estimator_.bandwidth)\n",
    "\n",
    "# use the best estimator to compute the kernel density estimate\n",
    "kde41d = grid.best_estimator_\n",
    "kde41d"
   ]
  }
 ],
 "metadata": {
  "kernelspec": {
   "display_name": "Python 3",
   "language": "python",
   "name": "python3"
  },
  "language_info": {
   "codemirror_mode": {
    "name": "ipython",
    "version": 3
   },
   "file_extension": ".py",
   "mimetype": "text/x-python",
   "name": "python",
   "nbconvert_exporter": "python",
   "pygments_lexer": "ipython3",
   "version": "3.7.1"
  }
 },
 "nbformat": 4,
 "nbformat_minor": 2
}
