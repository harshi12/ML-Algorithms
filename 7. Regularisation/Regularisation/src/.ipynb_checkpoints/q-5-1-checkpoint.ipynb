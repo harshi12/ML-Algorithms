{
 "cells": [
  {
   "cell_type": "markdown",
   "metadata": {},
   "source": [
    "# Question 5"
   ]
  },
  {
   "cell_type": "markdown",
   "metadata": {},
   "source": [
    "## import libraries"
   ]
  },
  {
   "cell_type": "code",
   "execution_count": 1,
   "metadata": {},
   "outputs": [],
   "source": [
    "import numpy as np\n",
    "import pandas as pd\n",
    "import seaborn as sns\n",
    "import matplotlib.pyplot as plt\n",
    "\n",
    "eps = np.finfo(float).eps"
   ]
  },
  {
   "cell_type": "markdown",
   "metadata": {},
   "source": [
    "## Utility Functions"
   ]
  },
  {
   "cell_type": "markdown",
   "metadata": {},
   "source": [
    "Line Plotter"
   ]
  },
  {
   "cell_type": "code",
   "execution_count": 2,
   "metadata": {},
   "outputs": [],
   "source": [
    "def plotter(label_x, label_y, title, x_axis, y_axis, mark='', colr = 'blue'):\n",
    "    plt.figure(num=None, figsize=(6, 4), dpi=175, facecolor='w', edgecolor='k')\n",
    "    # plotting the points  \n",
    "    plt.plot(x_axis, y_axis, marker = mark, color = colr, label = 'Error rate') \n",
    "    # naming the x axis \n",
    "    plt.xlabel(label_x) \n",
    "    # naming the y axis \n",
    "    plt.ylabel(label_y) \n",
    "    # giving a title to my graph \n",
    "    plt.title(title) \n",
    "    plt.grid(True)\n",
    "    # function to show the plot \n",
    "    plt.show()"
   ]
  },
  {
   "cell_type": "code",
   "execution_count": 3,
   "metadata": {},
   "outputs": [],
   "source": [
    "# Mean square error\n",
    "def MSE(predicted , actual):\n",
    "    return np.mean((np.array(actual) - np.array(predicted))**2)"
   ]
  },
  {
   "cell_type": "markdown",
   "metadata": {},
   "source": [
    "Mean absolute error"
   ]
  },
  {
   "cell_type": "code",
   "execution_count": 4,
   "metadata": {},
   "outputs": [],
   "source": [
    "# Mean absolute error\n",
    "def MAE(predicted , actual):\n",
    "    return np.mean(np.abs((np.array(actual) - np.array(predicted))))"
   ]
  },
  {
   "cell_type": "markdown",
   "metadata": {},
   "source": [
    "Mean absolute percentage error function"
   ]
  },
  {
   "cell_type": "code",
   "execution_count": 5,
   "metadata": {},
   "outputs": [],
   "source": [
    "# Mean absolute percentage error function\n",
    "def MAPE(predicted , actual):\n",
    "    return np.mean(np.abs((np.array(actual) - np.array(predicted))/ np.array(actual))) * 100"
   ]
  },
  {
   "cell_type": "markdown",
   "metadata": {},
   "source": [
    "Normalising the data set to reduce range of values"
   ]
  },
  {
   "cell_type": "code",
   "execution_count": 6,
   "metadata": {},
   "outputs": [],
   "source": [
    "def normalize(randomDataSet, columns):\n",
    "    for attr in columns[:-1]:\n",
    "        randomDataSet[attr] = (randomDataSet[attr] - randomDataSet[attr].min())/(randomDataSet[attr].max() - randomDataSet[attr].min())"
   ]
  },
  {
   "cell_type": "code",
   "execution_count": 7,
   "metadata": {},
   "outputs": [],
   "source": [
    "def modify_dataset(dataSet):\n",
    "    arrayDataSet = dataSet.values\n",
    "    X = arrayDataSet[:,:-1]\n",
    "    ones = np.ones([X.shape[0],1])\n",
    "    X = np.concatenate((ones,X),axis=1)\n",
    "    y = arrayDataSet[:,-1].reshape(-1,1)\n",
    "    \n",
    "    return X, y"
   ]
  },
  {
   "cell_type": "markdown",
   "metadata": {},
   "source": [
    "Cost Function"
   ]
  },
  {
   "cell_type": "code",
   "execution_count": 8,
   "metadata": {},
   "outputs": [],
   "source": [
    "def costFunction(X, y, theta, lamda):\n",
    "    return (np.sum(np.square(np.dot(X,theta.T) - y)) + lamda*np.sum(np.square(theta[:,1:])))/(2*X.shape[0])\n",
    "\n"
   ]
  },
  {
   "cell_type": "markdown",
   "metadata": {},
   "source": [
    "Gradient Decent Function"
   ]
  },
  {
   "cell_type": "code",
   "execution_count": 9,
   "metadata": {},
   "outputs": [],
   "source": [
    "def gradientDecent(X, y, alpha, theta, lamda):\n",
    "    theta[:,0] = theta[:,0] - alpha * np.sum((X[:,0].reshape(-1,1))*(np.dot(X , theta.T) - y) ,axis = 0)/X.shape[0]\n",
    "    theta[:,1:] = theta[:,1:]*(1 + lamda*alpha/X.shape[0]) - alpha * (np.sum(X[:,1:] * (np.dot(X , theta.T) - y), axis = 0).reshape(1,-1))/X.shape[0]\n",
    "    return theta\n"
   ]
  },
  {
   "cell_type": "markdown",
   "metadata": {},
   "source": [
    "Model Fitting Function"
   ]
  },
  {
   "cell_type": "code",
   "execution_count": 10,
   "metadata": {},
   "outputs": [],
   "source": [
    "# Fitting the Model\n",
    "def modelFitting(x_train, y_train, alpha, iterate, lamda):\n",
    "    iteration_list = []\n",
    "    cost_list = []\n",
    "    global theta\n",
    "    theta = np.zeros([1,x_train.shape[1]])\n",
    "    for i in range(iterate):\n",
    "        cost = costFunction(x_train, y_train, theta, lamda)\n",
    "        theta = gradientDecent(x_train, y_train, alpha,theta, lamda)\n",
    "        iteration_list.append(i)\n",
    "        cost_list.append(cost)\n",
    "#         print(\"Lamda: \",lamda,\" i: \", i,\" cost: \", cost)\n",
    "    return theta, iteration_list, cost_list"
   ]
  },
  {
   "cell_type": "markdown",
   "metadata": {},
   "source": [
    "Valdidation Function for validating the data set for error calculation"
   ]
  },
  {
   "cell_type": "code",
   "execution_count": 11,
   "metadata": {},
   "outputs": [],
   "source": [
    "def valdidation(x_validate , y_validate ,theta):\n",
    "    predicted = np.dot(x_validate,theta.T)\n",
    "    actual = y_validate\n",
    "    return predicted , actual"
   ]
  },
  {
   "cell_type": "markdown",
   "metadata": {},
   "source": [
    "Mean square error"
   ]
  },
  {
   "cell_type": "markdown",
   "metadata": {},
   "source": [
    "Residual Plotter for verifying correctness of the regression line"
   ]
  },
  {
   "cell_type": "code",
   "execution_count": 12,
   "metadata": {},
   "outputs": [],
   "source": [
    "def ResidualPlotter(validationSet, predicted , actual):\n",
    "    residual = np.array(actual) - np.array(predicted)\n",
    "    for attr in validationSet:\n",
    "        scatterplot(attr,'Residual','Residual-vs-' + attr, validationSet[attr],residual)"
   ]
  },
  {
   "cell_type": "markdown",
   "metadata": {},
   "source": [
    "### Reading the Data Set"
   ]
  },
  {
   "cell_type": "code",
   "execution_count": 13,
   "metadata": {
    "scrolled": true
   },
   "outputs": [],
   "source": [
    "randomDataSet = dataSet = pd.read_csv(\"./../input_data/AdmissionDataset/data.csv\")\n",
    "randomDataSet = dataSet.sample(frac = 1).reset_index(drop = True)\n",
    "Class = \"Chance of Admit \"\n",
    "columns = ['Serial No.' , 'GRE Score' , 'TOEFL Score' , 'University Rating' , 'SOP' , 'LOR' , 'CGPA' , 'Research' , Class]\n",
    "randomDataSet.columns = columns\n",
    "columns = columns[1:]\n",
    "randomDataSet = randomDataSet[columns]\n",
    "# randomDataSet"
   ]
  },
  {
   "cell_type": "markdown",
   "metadata": {},
   "source": [
    "### Setting parameters for our model"
   ]
  },
  {
   "cell_type": "code",
   "execution_count": 14,
   "metadata": {},
   "outputs": [],
   "source": [
    "alpha = 0.01\n",
    "lamda = 0.005\n",
    "iterate = 1000\n",
    "# theta = np.zeros([1,x_train.shape[1]])"
   ]
  },
  {
   "cell_type": "markdown",
   "metadata": {},
   "source": [
    "### Normalize Data Set"
   ]
  },
  {
   "cell_type": "code",
   "execution_count": 15,
   "metadata": {
    "scrolled": true
   },
   "outputs": [],
   "source": [
    "normalize(randomDataSet, columns)\n",
    "# randomDataSet"
   ]
  },
  {
   "cell_type": "code",
   "execution_count": 16,
   "metadata": {
    "scrolled": true
   },
   "outputs": [],
   "source": [
    "X , y = modify_dataset(randomDataSet)\n",
    "# X, y"
   ]
  },
  {
   "cell_type": "code",
   "execution_count": 17,
   "metadata": {},
   "outputs": [
    {
     "data": {
      "text/plain": [
       "2"
      ]
     },
     "execution_count": 17,
     "metadata": {},
     "output_type": "execute_result"
    }
   ],
   "source": [
    "from sklearn.model_selection import KFold\n",
    "kf = KFold(n_splits=2)\n",
    "kf.get_n_splits(X)"
   ]
  },
  {
   "cell_type": "code",
   "execution_count": 24,
   "metadata": {
    "scrolled": true
   },
   "outputs": [
    {
     "name": "stdout",
     "output_type": "stream",
     "text": [
      "............\n",
      "FINAL MSE:\n"
     ]
    },
    {
     "data": {
      "text/plain": [
       "[0.004915531122971024,\n",
       " 0.004895193239479926,\n",
       " 0.004894483434843349,\n",
       " 0.004871342763043322,\n",
       " 0.004875748529912175,\n",
       " 0.00487818484563383,\n",
       " 0.004895643990159213,\n",
       " 0.004887684321103305,\n",
       " 0.004893676706262015,\n",
       " 0.004864342731089204,\n",
       " 0.004866236559946078,\n",
       " 0.0048555370888714285]"
      ]
     },
     "execution_count": 24,
     "metadata": {},
     "output_type": "execute_result"
    }
   ],
   "source": [
    "from sklearn.model_selection import KFold\n",
    "mseK_list = []\n",
    "k_values = np.arange(3,15)\n",
    "for k in k_values:\n",
    "    mse_list = []\n",
    "    kf = KFold(n_splits=k)\n",
    "    kf.get_n_splits(X)\n",
    "    KFold(n_splits=k, random_state=None, shuffle=False)\n",
    "    for train_index, test_index in kf.split(X):\n",
    "        X_train, X_test = X[train_index], X[test_index]\n",
    "        y_train, y_test = y[train_index], y[test_index]\n",
    "        theta, iteration_list, cost_list = modelFitting(X_train, y_train, alpha, iterate, lamda)\n",
    "        predicted , actual = valdidation(X_test , y_test ,theta)\n",
    "#         print(\"K: \",k,\" MSE: \", MSE(predicted , actual))\n",
    "        mse_list.append(MSE(predicted , actual))\n",
    "#     print(\"mseK_list: \", np.mean(mse_list))\n",
    "    print(\".\", end ='')\n",
    "    mseK_list.append(np.mean(mse_list))\n",
    "print(\"\\nFINAL MSE:\")\n",
    "mseK_list"
   ]
  },
  {
   "cell_type": "code",
   "execution_count": 20,
   "metadata": {
    "scrolled": false
   },
   "outputs": [
    {
     "data": {
      "image/png": "[encoded data removed]",
      "text/plain": [
       "<Figure size 1050x700 with 1 Axes>"
      ]
     },
     "metadata": {},
     "output_type": "display_data"
    }
   ],
   "source": [
    "plotter('K','MSE','MSE-vs-K',k_values,mseK_list)\n"
   ]
  },
  {
   "cell_type": "code",
   "execution_count": null,
   "metadata": {},
   "outputs": [],
   "source": []
  }
 ],
 "metadata": {
  "kernelspec": {
   "display_name": "Python 3",
   "language": "python",
   "name": "python3"
  },
  "language_info": {
   "codemirror_mode": {
    "name": "ipython",
    "version": 3
   },
   "file_extension": ".py",
   "mimetype": "text/x-python",
   "name": "python",
   "nbconvert_exporter": "python",
   "pygments_lexer": "ipython3",
   "version": "3.7.1"
  }
 },
 "nbformat": 4,
 "nbformat_minor": 2
}
